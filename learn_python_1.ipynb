{
  "nbformat": 4,
  "nbformat_minor": 0,
  "metadata": {
    "colab": {
      "name": "learn python_1.ipynb",
      "provenance": [],
      "collapsed_sections": [
        "WbLWuhaKwjHg",
        "1AI7WgoixGF7",
        "150_G31sx919",
        "7GUZUA6nzAbd",
        "vkqHDWrm51DE",
        "VLQe1XGLGWiS"
      ],
      "authorship_tag": "ABX9TyP1v4vGrPIDTsymnP55NsFZ",
      "include_colab_link": true
    },
    "kernelspec": {
      "name": "python3",
      "display_name": "Python 3"
    },
    "language_info": {
      "name": "python"
    }
  },
  "cells": [
    {
      "cell_type": "markdown",
      "metadata": {
        "id": "view-in-github",
        "colab_type": "text"
      },
      "source": [
        "<a href=\"https://colab.research.google.com/github/ktasha45/sprout-class-2022/blob/master/learn_python_1.ipynb\" target=\"_parent\"><img src=\"https://colab.research.google.com/assets/colab-badge.svg\" alt=\"Open In Colab\"/></a>"
      ]
    },
    {
      "cell_type": "markdown",
      "source": [
        "refer to: https://cs231n.github.io/python-numpy-tutorial/"
      ],
      "metadata": {
        "id": "b0rRt70r6ySo"
      }
    },
    {
      "cell_type": "code",
      "execution_count": 1,
      "metadata": {
        "id": "HYmKccOOnFa3",
        "colab": {
          "base_uri": "https://localhost:8080/"
        },
        "outputId": "83837703-71f1-4187-b018-ccd3871886c2"
      },
      "outputs": [
        {
          "output_type": "stream",
          "name": "stdout",
          "text": [
            "Python 3.7.12\n"
          ]
        }
      ],
      "source": [
        "!python --version"
      ]
    },
    {
      "cell_type": "markdown",
      "source": [
        "# Boolean"
      ],
      "metadata": {
        "id": "WbLWuhaKwjHg"
      }
    },
    {
      "cell_type": "code",
      "source": [
        "t = True\n",
        "print(type(t), t)"
      ],
      "metadata": {
        "id": "jIz_PB_Enqjq",
        "colab": {
          "base_uri": "https://localhost:8080/"
        },
        "outputId": "30f5eda8-ec57-40e6-e0ab-ad3a846b1048"
      },
      "execution_count": 2,
      "outputs": [
        {
          "output_type": "stream",
          "name": "stdout",
          "text": [
            "<class 'bool'> True\n"
          ]
        }
      ]
    },
    {
      "cell_type": "code",
      "source": [
        "f = False\n",
        "print(type(f), f)"
      ],
      "metadata": {
        "id": "6acT13V3nwIR",
        "colab": {
          "base_uri": "https://localhost:8080/"
        },
        "outputId": "5fdd908a-e24f-4cd8-f8fa-177cdbf7f5b5"
      },
      "execution_count": 3,
      "outputs": [
        {
          "output_type": "stream",
          "name": "stdout",
          "text": [
            "<class 'bool'> False\n"
          ]
        }
      ]
    },
    {
      "cell_type": "code",
      "source": [
        "print(t and f)\n",
        "print(t or f)\n",
        "print(not f)\n",
        "print(t == f)\n",
        "print(t != f)"
      ],
      "metadata": {
        "id": "ukAjeg0gn3oX",
        "colab": {
          "base_uri": "https://localhost:8080/"
        },
        "outputId": "4543f7d4-89fe-4731-b1db-1904aa5cef2c"
      },
      "execution_count": 4,
      "outputs": [
        {
          "output_type": "stream",
          "name": "stdout",
          "text": [
            "False\n",
            "True\n",
            "True\n",
            "False\n",
            "True\n"
          ]
        }
      ]
    },
    {
      "cell_type": "markdown",
      "source": [
        "# Arithmetic operation"
      ],
      "metadata": {
        "id": "1AI7WgoixGF7"
      }
    },
    {
      "cell_type": "code",
      "source": [
        "i = 100\n",
        "print(i)\n",
        "print(type(i))"
      ],
      "metadata": {
        "id": "Y-3cqbkew_xg",
        "colab": {
          "base_uri": "https://localhost:8080/"
        },
        "outputId": "69d435a0-10d1-4e9f-9f6f-95b1044e7f7e"
      },
      "execution_count": 5,
      "outputs": [
        {
          "output_type": "stream",
          "name": "stdout",
          "text": [
            "100\n",
            "<class 'int'>\n"
          ]
        }
      ]
    },
    {
      "cell_type": "code",
      "source": [
        "print(i / 20)\n",
        "print(i // 20)"
      ],
      "metadata": {
        "id": "kVbshCj1xKGK",
        "colab": {
          "base_uri": "https://localhost:8080/"
        },
        "outputId": "059e5a2a-fa4d-40a0-9385-eed892b67c2d"
      },
      "execution_count": 6,
      "outputs": [
        {
          "output_type": "stream",
          "name": "stdout",
          "text": [
            "5.0\n",
            "5\n"
          ]
        }
      ]
    },
    {
      "cell_type": "code",
      "source": [
        "print(i % 14) # 100 = 14 * 7 + 2"
      ],
      "metadata": {
        "id": "R-TQ007TxMQY",
        "colab": {
          "base_uri": "https://localhost:8080/"
        },
        "outputId": "192a8870-3348-45d7-de39-ab84763cf69a"
      },
      "execution_count": 7,
      "outputs": [
        {
          "output_type": "stream",
          "name": "stdout",
          "text": [
            "2\n"
          ]
        }
      ]
    },
    {
      "cell_type": "code",
      "source": [
        "print(i / 14)\n",
        "print(i // 14)"
      ],
      "metadata": {
        "id": "5Lk23rhaxOe6",
        "colab": {
          "base_uri": "https://localhost:8080/"
        },
        "outputId": "0dce5098-7f0b-442d-8e66-a532ce3075a3"
      },
      "execution_count": 8,
      "outputs": [
        {
          "output_type": "stream",
          "name": "stdout",
          "text": [
            "7.142857142857143\n",
            "7\n"
          ]
        }
      ]
    },
    {
      "cell_type": "code",
      "source": [
        "f = 1.55\n",
        "print(f)\n",
        "print(type(f))"
      ],
      "metadata": {
        "id": "WESXYubqxTVg",
        "colab": {
          "base_uri": "https://localhost:8080/"
        },
        "outputId": "e4516343-a2e1-4d15-fa7f-d56e984a269e"
      },
      "execution_count": 9,
      "outputs": [
        {
          "output_type": "stream",
          "name": "stdout",
          "text": [
            "1.55\n",
            "<class 'float'>\n"
          ]
        }
      ]
    },
    {
      "cell_type": "code",
      "source": [
        "f += 2\n",
        "print(f)"
      ],
      "metadata": {
        "id": "zlI5Lj49xlix",
        "colab": {
          "base_uri": "https://localhost:8080/"
        },
        "outputId": "2149ac5f-844d-46cb-957f-ef7237e5f130"
      },
      "execution_count": 10,
      "outputs": [
        {
          "output_type": "stream",
          "name": "stdout",
          "text": [
            "3.55\n"
          ]
        }
      ]
    },
    {
      "cell_type": "code",
      "source": [
        "f *= 2\n",
        "print(f)"
      ],
      "metadata": {
        "id": "7whZkZSsxquY",
        "colab": {
          "base_uri": "https://localhost:8080/"
        },
        "outputId": "4a91409a-66b3-4cb1-af0a-afff919dceb4"
      },
      "execution_count": 11,
      "outputs": [
        {
          "output_type": "stream",
          "name": "stdout",
          "text": [
            "7.1\n"
          ]
        }
      ]
    },
    {
      "cell_type": "code",
      "source": [
        "f **= 10\n",
        "print(f)"
      ],
      "metadata": {
        "id": "yqkOM_HXx1Iv",
        "colab": {
          "base_uri": "https://localhost:8080/"
        },
        "outputId": "2ca85c38-e1cb-4e7c-97f7-6d1fb0347c61"
      },
      "execution_count": 12,
      "outputs": [
        {
          "output_type": "stream",
          "name": "stdout",
          "text": [
            "325524355.100988\n"
          ]
        }
      ]
    },
    {
      "cell_type": "markdown",
      "source": [
        "# String"
      ],
      "metadata": {
        "id": "150_G31sx919"
      }
    },
    {
      "cell_type": "code",
      "source": [
        "string1 = 'string1'\n",
        "print(string1)\n",
        "print(type(string1))"
      ],
      "metadata": {
        "id": "VdP8ZObHx_MX",
        "colab": {
          "base_uri": "https://localhost:8080/"
        },
        "outputId": "c004665e-834f-4a6a-ffba-f449e6dee139"
      },
      "execution_count": 13,
      "outputs": [
        {
          "output_type": "stream",
          "name": "stdout",
          "text": [
            "string1\n",
            "<class 'str'>\n"
          ]
        }
      ]
    },
    {
      "cell_type": "code",
      "source": [
        "string2 = 'string2'\n",
        "string3 = string1 + string2\n",
        "print(string3)"
      ],
      "metadata": {
        "id": "WfIRaV4zyCnf",
        "colab": {
          "base_uri": "https://localhost:8080/"
        },
        "outputId": "fd827921-1b9f-4463-8985-02a8d8ca62ac"
      },
      "execution_count": 14,
      "outputs": [
        {
          "output_type": "stream",
          "name": "stdout",
          "text": [
            "string1string2\n"
          ]
        }
      ]
    },
    {
      "cell_type": "code",
      "source": [
        "string4 = string1 + ' ' + string2\n",
        "print(string4)"
      ],
      "metadata": {
        "id": "5Hb5wXU_yPqY",
        "colab": {
          "base_uri": "https://localhost:8080/"
        },
        "outputId": "a2fc5290-a854-49d6-def4-5bc94a5e38e1"
      },
      "execution_count": 15,
      "outputs": [
        {
          "output_type": "stream",
          "name": "stdout",
          "text": [
            "string1 string2\n"
          ]
        }
      ]
    },
    {
      "cell_type": "code",
      "source": [
        "string5 = '{}, {}, {}'.format(string1, 123.4, string2)\n",
        "print(string5)"
      ],
      "metadata": {
        "id": "7B5WycI-ySO-",
        "colab": {
          "base_uri": "https://localhost:8080/"
        },
        "outputId": "0e5eca64-047c-4ff8-ce30-f81e63d45c48"
      },
      "execution_count": 16,
      "outputs": [
        {
          "output_type": "stream",
          "name": "stdout",
          "text": [
            "string1, 123.4, string2\n"
          ]
        }
      ]
    },
    {
      "cell_type": "code",
      "source": [
        "print('{}, {}, {}'.format(string1, 123.4, string2))"
      ],
      "metadata": {
        "id": "WUC-KFgkyhvA",
        "colab": {
          "base_uri": "https://localhost:8080/"
        },
        "outputId": "efaaa66c-626f-4f54-99ea-0628da88e7f0"
      },
      "execution_count": 17,
      "outputs": [
        {
          "output_type": "stream",
          "name": "stdout",
          "text": [
            "string1, 123.4, string2\n"
          ]
        }
      ]
    },
    {
      "cell_type": "code",
      "source": [
        "s = 'striNg asdf qwer. asd'\n",
        "print(s.upper())"
      ],
      "metadata": {
        "id": "d9cOqi5RylzF",
        "colab": {
          "base_uri": "https://localhost:8080/"
        },
        "outputId": "10bd1597-9a3a-4f30-c052-60eb7d837063"
      },
      "execution_count": 18,
      "outputs": [
        {
          "output_type": "stream",
          "name": "stdout",
          "text": [
            "STRING ASDF QWER. ASD\n"
          ]
        }
      ]
    },
    {
      "cell_type": "code",
      "source": [
        "print(s.capitalize())"
      ],
      "metadata": {
        "id": "gy95rO2xyqrH",
        "colab": {
          "base_uri": "https://localhost:8080/"
        },
        "outputId": "962c32cd-9c50-474c-d2af-41903260c32d"
      },
      "execution_count": 19,
      "outputs": [
        {
          "output_type": "stream",
          "name": "stdout",
          "text": [
            "String asdf qwer. asd\n"
          ]
        }
      ]
    },
    {
      "cell_type": "code",
      "source": [
        "s = '    string   '\n",
        "print(s.strip())"
      ],
      "metadata": {
        "id": "INfEY9N0ysHW",
        "colab": {
          "base_uri": "https://localhost:8080/"
        },
        "outputId": "442a96b3-b509-4218-b65b-c00074556a2e"
      },
      "execution_count": 20,
      "outputs": [
        {
          "output_type": "stream",
          "name": "stdout",
          "text": [
            "string\n"
          ]
        }
      ]
    },
    {
      "cell_type": "code",
      "source": [
        "s = 'string1 string2 string3'\n",
        "print(s.split())"
      ],
      "metadata": {
        "id": "-x0lLkLfyx6_",
        "colab": {
          "base_uri": "https://localhost:8080/"
        },
        "outputId": "f2f0f78f-96e4-4fee-ecb5-0a790044e12a"
      },
      "execution_count": 21,
      "outputs": [
        {
          "output_type": "stream",
          "name": "stdout",
          "text": [
            "['string1', 'string2', 'string3']\n"
          ]
        }
      ]
    },
    {
      "cell_type": "markdown",
      "source": [
        "# list"
      ],
      "metadata": {
        "id": "7GUZUA6nzAbd"
      }
    },
    {
      "cell_type": "code",
      "source": [
        "l = [1, 2, 3, 4, 5]\n",
        "print(l)\n",
        "print(type(l))"
      ],
      "metadata": {
        "id": "6DgxWQQIzCHw",
        "colab": {
          "base_uri": "https://localhost:8080/"
        },
        "outputId": "00414f27-a3b6-465e-d4d2-99c89321401b"
      },
      "execution_count": 22,
      "outputs": [
        {
          "output_type": "stream",
          "name": "stdout",
          "text": [
            "[1, 2, 3, 4, 5]\n",
            "<class 'list'>\n"
          ]
        }
      ]
    },
    {
      "cell_type": "code",
      "source": [
        "l[2] = 'as'\n",
        "print(l)"
      ],
      "metadata": {
        "id": "a5A3ApwtzDuH",
        "colab": {
          "base_uri": "https://localhost:8080/"
        },
        "outputId": "ab12fd64-ebf8-456a-c744-45f136a38321"
      },
      "execution_count": 23,
      "outputs": [
        {
          "output_type": "stream",
          "name": "stdout",
          "text": [
            "[1, 2, 'as', 4, 5]\n"
          ]
        }
      ]
    },
    {
      "cell_type": "code",
      "source": [
        "l[1] = [1, 2, 3, 4]\n",
        "print(l)"
      ],
      "metadata": {
        "id": "Z3FBsbkxzHqm",
        "colab": {
          "base_uri": "https://localhost:8080/"
        },
        "outputId": "3fe037cf-bc55-4f65-8be3-29541ae53d47"
      },
      "execution_count": 24,
      "outputs": [
        {
          "output_type": "stream",
          "name": "stdout",
          "text": [
            "[1, [1, 2, 3, 4], 'as', 4, 5]\n"
          ]
        }
      ]
    },
    {
      "cell_type": "code",
      "source": [
        "l.append('asdf')\n",
        "print(l)"
      ],
      "metadata": {
        "id": "gLAR6yC_zIVe",
        "colab": {
          "base_uri": "https://localhost:8080/"
        },
        "outputId": "1c2a2cbd-d5c1-4e28-c5ef-a103d77b2924"
      },
      "execution_count": 25,
      "outputs": [
        {
          "output_type": "stream",
          "name": "stdout",
          "text": [
            "[1, [1, 2, 3, 4], 'as', 4, 5, 'asdf']\n"
          ]
        }
      ]
    },
    {
      "cell_type": "code",
      "source": [
        "lnum = list(range(1, 10, 1))\n",
        "print(lnum)"
      ],
      "metadata": {
        "id": "OBrIsxUMzQHW",
        "colab": {
          "base_uri": "https://localhost:8080/"
        },
        "outputId": "b81d9112-4772-4a38-e1e0-7129f79ee56c"
      },
      "execution_count": 26,
      "outputs": [
        {
          "output_type": "stream",
          "name": "stdout",
          "text": [
            "[1, 2, 3, 4, 5, 6, 7, 8, 9]\n"
          ]
        }
      ]
    },
    {
      "cell_type": "code",
      "source": [
        "print(lnum[0:3])\n",
        "print(lnum[:3])"
      ],
      "metadata": {
        "id": "1vCpoTHMzZeG",
        "colab": {
          "base_uri": "https://localhost:8080/"
        },
        "outputId": "1ac57f9e-d31f-40b3-ba71-73353ffda014"
      },
      "execution_count": 27,
      "outputs": [
        {
          "output_type": "stream",
          "name": "stdout",
          "text": [
            "[1, 2, 3]\n",
            "[1, 2, 3]\n"
          ]
        }
      ]
    },
    {
      "cell_type": "code",
      "source": [
        "lnum[0:2] = [10, 20]\n",
        "print(lnum)"
      ],
      "metadata": {
        "id": "L-4kIj_NzkvW",
        "colab": {
          "base_uri": "https://localhost:8080/"
        },
        "outputId": "db15f948-c433-46c4-dfc3-cf6b80bdeb6f"
      },
      "execution_count": 28,
      "outputs": [
        {
          "output_type": "stream",
          "name": "stdout",
          "text": [
            "[10, 20, 3, 4, 5, 6, 7, 8, 9]\n"
          ]
        }
      ]
    },
    {
      "cell_type": "code",
      "source": [
        "print(lnum[-1])\n",
        "print(lnum[:-1])"
      ],
      "metadata": {
        "id": "eElLUVOOzuXf",
        "colab": {
          "base_uri": "https://localhost:8080/"
        },
        "outputId": "c65135f2-3c54-469d-8a6a-ed4f9fff7765"
      },
      "execution_count": 29,
      "outputs": [
        {
          "output_type": "stream",
          "name": "stdout",
          "text": [
            "9\n",
            "[10, 20, 3, 4, 5, 6, 7, 8]\n"
          ]
        }
      ]
    },
    {
      "cell_type": "markdown",
      "source": [
        "# loop"
      ],
      "metadata": {
        "id": "vkqHDWrm51DE"
      }
    },
    {
      "cell_type": "code",
      "source": [
        "for i in range(1, 10, 1):\n",
        "  print(i)"
      ],
      "metadata": {
        "colab": {
          "base_uri": "https://localhost:8080/"
        },
        "id": "GzbMOeck51wB",
        "outputId": "2a581466-d17d-49cc-ee6d-57871ae5c4e1"
      },
      "execution_count": 30,
      "outputs": [
        {
          "output_type": "stream",
          "name": "stdout",
          "text": [
            "1\n",
            "2\n",
            "3\n",
            "4\n",
            "5\n",
            "6\n",
            "7\n",
            "8\n",
            "9\n"
          ]
        }
      ]
    },
    {
      "cell_type": "code",
      "source": [
        "alp = ['a', 'b', 'c']\n",
        "\n",
        "for char in alp:\n",
        "  print(char)"
      ],
      "metadata": {
        "colab": {
          "base_uri": "https://localhost:8080/"
        },
        "id": "HCuPmOwm56Ho",
        "outputId": "86b196bb-9e33-468e-ca92-8d05a843ad12"
      },
      "execution_count": 31,
      "outputs": [
        {
          "output_type": "stream",
          "name": "stdout",
          "text": [
            "a\n",
            "b\n",
            "c\n"
          ]
        }
      ]
    },
    {
      "cell_type": "code",
      "source": [
        "for i, char in enumerate(alp):\n",
        "  print(\"#{}: {}\".format(i+1, char))"
      ],
      "metadata": {
        "colab": {
          "base_uri": "https://localhost:8080/"
        },
        "id": "OCCK-YM26Dfx",
        "outputId": "127456a5-d76d-41cb-969d-9e176c396bb9"
      },
      "execution_count": 32,
      "outputs": [
        {
          "output_type": "stream",
          "name": "stdout",
          "text": [
            "#1: a\n",
            "#2: b\n",
            "#3: c\n"
          ]
        }
      ]
    },
    {
      "cell_type": "code",
      "source": [
        "for sq in range(1, 5, 1):\n",
        "  print(sq**2)"
      ],
      "metadata": {
        "colab": {
          "base_uri": "https://localhost:8080/"
        },
        "id": "T6D6Axf96L8a",
        "outputId": "b35de4b1-8baa-45b0-b720-046a1a8ab0d3"
      },
      "execution_count": 33,
      "outputs": [
        {
          "output_type": "stream",
          "name": "stdout",
          "text": [
            "1\n",
            "4\n",
            "9\n",
            "16\n"
          ]
        }
      ]
    },
    {
      "cell_type": "code",
      "source": [
        "num = list(range(1, 5, 1))\n",
        "sqnum = [n**2 for n in num]\n",
        "print(sqnum)"
      ],
      "metadata": {
        "colab": {
          "base_uri": "https://localhost:8080/"
        },
        "id": "7j0KyXWZ6TWy",
        "outputId": "a1031457-34dc-4c7b-a5c3-25ccc24bfe47"
      },
      "execution_count": 34,
      "outputs": [
        {
          "output_type": "stream",
          "name": "stdout",
          "text": [
            "[1, 4, 9, 16]\n"
          ]
        }
      ]
    },
    {
      "cell_type": "code",
      "source": [
        "num = list(range(1, 5, 1))\n",
        "sqnum = [n**2 for n in num if n%2==0]\n",
        "print(sqnum)"
      ],
      "metadata": {
        "colab": {
          "base_uri": "https://localhost:8080/"
        },
        "id": "5lWGUXSb6cTH",
        "outputId": "e13f59f6-2e06-4dd5-a66f-5af4706fdcf8"
      },
      "execution_count": 35,
      "outputs": [
        {
          "output_type": "stream",
          "name": "stdout",
          "text": [
            "[4, 16]\n"
          ]
        }
      ]
    },
    {
      "cell_type": "markdown",
      "source": [
        "# dictionary"
      ],
      "metadata": {
        "id": "VLQe1XGLGWiS"
      }
    },
    {
      "cell_type": "code",
      "source": [
        "d = {\n",
        "    'cat' : 'cute',\n",
        "    'dog' : 'funny'\n",
        "}"
      ],
      "metadata": {
        "id": "u9IwcJOrGQtL"
      },
      "execution_count": 36,
      "outputs": []
    },
    {
      "cell_type": "code",
      "source": [
        "print(d)\n",
        "print(type(d))"
      ],
      "metadata": {
        "colab": {
          "base_uri": "https://localhost:8080/"
        },
        "id": "Buj8yQCjG2K1",
        "outputId": "1e5533cd-292f-4867-d8c0-628f68d311f2"
      },
      "execution_count": 37,
      "outputs": [
        {
          "output_type": "stream",
          "name": "stdout",
          "text": [
            "{'cat': 'cute', 'dog': 'funny'}\n",
            "<class 'dict'>\n"
          ]
        }
      ]
    },
    {
      "cell_type": "code",
      "source": [
        "print(d['cat'])"
      ],
      "metadata": {
        "colab": {
          "base_uri": "https://localhost:8080/"
        },
        "id": "PpiD9jl6G7FL",
        "outputId": "51132a33-79ee-4bce-aa0d-a312873b9784"
      },
      "execution_count": 38,
      "outputs": [
        {
          "output_type": "stream",
          "name": "stdout",
          "text": [
            "cute\n"
          ]
        }
      ]
    },
    {
      "cell_type": "code",
      "source": [
        "print('cat' in d)"
      ],
      "metadata": {
        "colab": {
          "base_uri": "https://localhost:8080/"
        },
        "id": "j_nhJG5yG_Ml",
        "outputId": "24074cfe-b141-4bc0-ea20-72bf3a3fa20e"
      },
      "execution_count": 39,
      "outputs": [
        {
          "output_type": "stream",
          "name": "stdout",
          "text": [
            "True\n"
          ]
        }
      ]
    }
  ]
}