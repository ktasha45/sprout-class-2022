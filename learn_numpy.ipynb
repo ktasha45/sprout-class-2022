{
  "nbformat": 4,
  "nbformat_minor": 0,
  "metadata": {
    "colab": {
      "name": "learn_numpy.ipynb",
      "provenance": [],
      "authorship_tag": "ABX9TyOMbfLJl13RJvWCTJo93MxO",
      "include_colab_link": true
    },
    "kernelspec": {
      "name": "python3",
      "display_name": "Python 3"
    },
    "language_info": {
      "name": "python"
    }
  },
  "cells": [
    {
      "cell_type": "markdown",
      "metadata": {
        "id": "view-in-github",
        "colab_type": "text"
      },
      "source": [
        "<a href=\"https://colab.research.google.com/github/ktasha45/sprout-class-2022/blob/master/learn_numpy.ipynb\" target=\"_parent\"><img src=\"https://colab.research.google.com/assets/colab-badge.svg\" alt=\"Open In Colab\"/></a>"
      ]
    },
    {
      "cell_type": "markdown",
      "source": [
        "# numpy"
      ],
      "metadata": {
        "id": "WsAW-_iF3hjQ"
      }
    },
    {
      "cell_type": "code",
      "execution_count": 1,
      "metadata": {
        "id": "51lOACNL3eBu"
      },
      "outputs": [],
      "source": [
        "import numpy as np"
      ]
    },
    {
      "cell_type": "code",
      "source": [
        "a = np.array([1, 2, 3]) # 3차원 vector\n",
        "b = np.arange(1, 12, 1)\n",
        "c = np.arange(1.0, 12.0, 1.0)\n",
        "d = np.array(range(1, 12, 1))\n",
        "e = np.array(range(1, 12, 1), dtype=np.float16)\n",
        "\n",
        "print('a', a)\n",
        "print(a.dtype)\n",
        "print()\n",
        "print('b', b)\n",
        "print(b.dtype)\n",
        "print()\n",
        "print('c', c)\n",
        "print(c.dtype)\n",
        "print()\n",
        "print('d', d)\n",
        "print(d.dtype)\n",
        "print()\n",
        "print('e', e)\n",
        "print(e.dtype)"
      ],
      "metadata": {
        "id": "QUuJbTyx3qxE"
      },
      "execution_count": null,
      "outputs": []
    },
    {
      "cell_type": "code",
      "source": [
        "print(c)\n",
        "c[2] = 123\n",
        "print(c)"
      ],
      "metadata": {
        "id": "Q0itGLpo5D_y"
      },
      "execution_count": null,
      "outputs": []
    },
    {
      "cell_type": "code",
      "source": [
        "print(c[:3])\n",
        "print(c[4:])"
      ],
      "metadata": {
        "id": "2nEL1EFy5I8k"
      },
      "execution_count": null,
      "outputs": []
    },
    {
      "cell_type": "code",
      "source": [
        "print(a.shape, b.shape, c.shape)"
      ],
      "metadata": {
        "id": "WWhbV-Bm4Qmj"
      },
      "execution_count": null,
      "outputs": []
    },
    {
      "cell_type": "markdown",
      "source": [
        "# reshape, index"
      ],
      "metadata": {
        "id": "zW0BtS915TdY"
      }
    },
    {
      "cell_type": "code",
      "source": [
        "a = np.arange(1, 13, 1, dtype=np.float16).reshape((3, 4))\n",
        "print(a)"
      ],
      "metadata": {
        "id": "kMgWvbxh4v2E"
      },
      "execution_count": null,
      "outputs": []
    },
    {
      "cell_type": "code",
      "source": [
        "a = np.arange(1, 5, 1, dtype=np.int64).reshape((-1, 1))\n",
        "print(a)\n",
        "print(a.shape)"
      ],
      "metadata": {
        "id": "NmNgy01u5qvP"
      },
      "execution_count": null,
      "outputs": []
    },
    {
      "cell_type": "code",
      "source": [
        "b = np.zeros((3, 3))\n",
        "print(b)"
      ],
      "metadata": {
        "id": "Bkfis_IO6Bql"
      },
      "execution_count": null,
      "outputs": []
    },
    {
      "cell_type": "code",
      "source": [
        "c = np.ones((3, 3))\n",
        "print(c)"
      ],
      "metadata": {
        "id": "esS4FaAv6LOl"
      },
      "execution_count": null,
      "outputs": []
    },
    {
      "cell_type": "code",
      "source": [
        "d = np.eye(3)\n",
        "print(d)"
      ],
      "metadata": {
        "id": "7ETnXuNP6Ni6"
      },
      "execution_count": null,
      "outputs": []
    },
    {
      "cell_type": "code",
      "source": [
        "e = np.random.random((3, 3))\n",
        "print(e)"
      ],
      "metadata": {
        "id": "QkEWOof_6QmK"
      },
      "execution_count": null,
      "outputs": []
    },
    {
      "cell_type": "code",
      "source": [
        "f = np.random.randn(3, 3)\n",
        "print(f)"
      ],
      "metadata": {
        "id": "FtWMcbBI6YsM"
      },
      "execution_count": null,
      "outputs": []
    },
    {
      "cell_type": "code",
      "source": [
        "np.random.randn()"
      ],
      "metadata": {
        "id": "3lUaLNkM6wKR"
      },
      "execution_count": null,
      "outputs": []
    },
    {
      "cell_type": "code",
      "source": [
        "print(e)\n",
        "print(e[1, 1])"
      ],
      "metadata": {
        "id": "R0YzqySt7fL2"
      },
      "execution_count": null,
      "outputs": []
    },
    {
      "cell_type": "code",
      "source": [
        "g = np.full((3, 3), 1.5)\n",
        "print(g)\n",
        "print(g.dtype)"
      ],
      "metadata": {
        "id": "z6bMQTa6LyEv"
      },
      "execution_count": null,
      "outputs": []
    },
    {
      "cell_type": "code",
      "source": [
        "a = np.arange(3)\n",
        "print(a)\n",
        "print(a.reshape(1, -1))\n",
        "print(a.reshape(-1, 1))"
      ],
      "metadata": {
        "id": "ozOIzwUU-4Wp"
      },
      "execution_count": null,
      "outputs": []
    },
    {
      "cell_type": "markdown",
      "source": [
        "# slicing"
      ],
      "metadata": {
        "id": "M2rcAJx-7WZW"
      }
    },
    {
      "cell_type": "code",
      "source": [
        "a = np.arange(1, 13, 1, dtype=np.int32).reshape((3, 4))\n",
        "print(a)\n",
        "b = a[:2, :3]\n",
        "print(b)"
      ],
      "metadata": {
        "id": "OQQuFerf7AiV"
      },
      "execution_count": null,
      "outputs": []
    },
    {
      "cell_type": "code",
      "source": [
        "b[0, 0] = 100\n",
        "print(a)\n",
        "print(b)"
      ],
      "metadata": {
        "id": "erzVrgMZ7-z1"
      },
      "execution_count": null,
      "outputs": []
    },
    {
      "cell_type": "code",
      "source": [
        "a = np.arange(1, 13, 1, dtype=np.int32).reshape((3, 4))\n",
        "b = np.zeros((2, 3), dtype=np.int32)\n",
        "print(a)\n",
        "b[:] = a[:2, :3]\n",
        "print(b)"
      ],
      "metadata": {
        "id": "0StHwmL58DjQ"
      },
      "execution_count": null,
      "outputs": []
    },
    {
      "cell_type": "code",
      "source": [
        "b[0, 0] = 100\n",
        "print(a)\n",
        "print(b)"
      ],
      "metadata": {
        "id": "k1R3jbvw8ZdT"
      },
      "execution_count": null,
      "outputs": []
    },
    {
      "cell_type": "markdown",
      "source": [
        "https://stackoverflow.com/questions/2612802/list-changes-unexpectedly-after-assignment-why-is-this-and-how-can-i-prevent-it"
      ],
      "metadata": {
        "id": "_P3Htt1M-gZ0"
      }
    },
    {
      "cell_type": "code",
      "source": [
        "a = np.arange(1, 13, 1, dtype=np.int32).reshape((3, 4))\n",
        "print(a)\n",
        "b = a[:2, :3].copy()\n",
        "print(b)"
      ],
      "metadata": {
        "id": "20A2NrZR8z33"
      },
      "execution_count": null,
      "outputs": []
    },
    {
      "cell_type": "code",
      "source": [
        "b[0, 0] = 100\n",
        "print(a)\n",
        "print(b)"
      ],
      "metadata": {
        "id": "bDGvSCus9piA"
      },
      "execution_count": null,
      "outputs": []
    },
    {
      "cell_type": "code",
      "source": [
        "print(a)\n",
        "\n",
        "row_r1 = a[1, :]\n",
        "row_r2 = a[1:2, :]\n",
        "\n",
        "print(row_r1, row_r1.shape)\n",
        "print(row_r2, row_r2.shape)"
      ],
      "metadata": {
        "id": "6wmP_dTe-1Kx"
      },
      "execution_count": null,
      "outputs": []
    },
    {
      "cell_type": "markdown",
      "source": [
        "# class"
      ],
      "metadata": {
        "id": "BUPF8vcYIrgQ"
      }
    },
    {
      "cell_type": "code",
      "source": [
        "class Dog:\n",
        "    classcall = 0             # class variable shared by all instances\n",
        "    def __init__(self, name):\n",
        "        self.name = name\n",
        "        Dog.classcall += 1\n",
        "\n",
        "    def add_trick(self, trick):\n",
        "        print(trick)"
      ],
      "metadata": {
        "id": "POBD3pSS_RB7"
      },
      "execution_count": 71,
      "outputs": []
    },
    {
      "cell_type": "code",
      "source": [
        "print(Dog.classcall)\n",
        "a = Dog('뽀삐')\n",
        "print(Dog.classcall)\n",
        "b = Dog('까미')\n",
        "print(Dog.classcall)\n",
        "\n",
        "a.add_trick('asdf')\n",
        "b.add_trick('zxcv')"
      ],
      "metadata": {
        "id": "tCnLij4xIrGF"
      },
      "execution_count": null,
      "outputs": []
    },
    {
      "cell_type": "code",
      "source": [
        "class FourCal:\n",
        "    def __init__(self, first, second):\n",
        "        self.first = first\n",
        "        self.second = second\n",
        "    def setdata(self, first, second):\n",
        "        self.first = first\n",
        "        self.second = second\n",
        "    def add(self):\n",
        "        result = self.first + self.second\n",
        "        return result\n",
        "    def mul(self):\n",
        "        result = self.first * self.second\n",
        "        return result\n",
        "    def sub(self):\n",
        "        result = self.first - self.second\n",
        "        return result\n",
        "    def div(self):\n",
        "        result = self.first / self.second\n",
        "        return result"
      ],
      "metadata": {
        "id": "h-XEVqNmJHYG"
      },
      "execution_count": 73,
      "outputs": []
    },
    {
      "cell_type": "code",
      "source": [
        "a = FourCal(1, 2)\n",
        "a.sub()"
      ],
      "metadata": {
        "id": "gQz9MscOKov_"
      },
      "execution_count": null,
      "outputs": []
    },
    {
      "cell_type": "code",
      "source": [
        "class hier(FourCal):\n",
        "  pass"
      ],
      "metadata": {
        "id": "TmqWoH4pKt2H"
      },
      "execution_count": 76,
      "outputs": []
    },
    {
      "cell_type": "code",
      "source": [
        "a = hier(3, 4)\n",
        "a.mul()"
      ],
      "metadata": {
        "colab": {
          "base_uri": "https://localhost:8080/"
        },
        "id": "w7JYpVFSK2uy",
        "outputId": "76798925-c66a-4f5d-f387-d85a88429d66"
      },
      "execution_count": 77,
      "outputs": [
        {
          "output_type": "execute_result",
          "data": {
            "text/plain": [
              "12"
            ]
          },
          "metadata": {},
          "execution_count": 77
        }
      ]
    },
    {
      "cell_type": "markdown",
      "source": [
        "# Broadcasting\n",
        "\n",
        "Broadcasting is a powerful mechanism that allows numpy to work with arrays of different shapes when performing arithmetic operations. Frequently we have a smaller array and a larger array, and we want to use the smaller array multiple times to perform some operation on the larger array.\n",
        "\n"
      ],
      "metadata": {
        "id": "QTQvLQNAL-WK"
      }
    },
    {
      "cell_type": "code",
      "source": [
        "x = np.array([[1,2,3], [4,5,6], [7,8,9], [10, 11, 12]])\n",
        "v = np.array([1, 0, 1])\n",
        "y = np.empty_like(x)   # Create an empty matrix with the same shape as x\n",
        "\n",
        "# Add the vector v to each row of the matrix x with an explicit loop\n",
        "for i in range(4):\n",
        "    y[i, :] = x[i, :] + v\n",
        "\n",
        "# Now y is the following\n",
        "# [[ 2  2  4]\n",
        "#  [ 5  5  7]\n",
        "#  [ 8  8 10]\n",
        "#  [11 11 13]]\n",
        "print(y)"
      ],
      "metadata": {
        "id": "3mfGmNqJK78Q"
      },
      "execution_count": null,
      "outputs": []
    },
    {
      "cell_type": "code",
      "source": [
        "print(x)\n",
        "print(v)"
      ],
      "metadata": {
        "id": "5AW9419iL5LL"
      },
      "execution_count": null,
      "outputs": []
    },
    {
      "cell_type": "code",
      "source": [
        "x+=v\n",
        "print(x)"
      ],
      "metadata": {
        "id": "Fia24YgTMJ8P"
      },
      "execution_count": null,
      "outputs": []
    }
  ]
}