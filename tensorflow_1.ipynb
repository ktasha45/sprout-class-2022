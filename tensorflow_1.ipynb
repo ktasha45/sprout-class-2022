{
  "nbformat": 4,
  "nbformat_minor": 0,
  "metadata": {
    "colab": {
      "name": "tensorflow.ipynb",
      "provenance": [],
      "collapsed_sections": [],
      "authorship_tag": "ABX9TyOWfJJ8KaKkuxdmHZ4TSxga",
      "include_colab_link": true
    },
    "kernelspec": {
      "name": "python3",
      "display_name": "Python 3"
    },
    "language_info": {
      "name": "python"
    },
    "accelerator": "GPU"
  },
  "cells": [
    {
      "cell_type": "markdown",
      "metadata": {
        "id": "view-in-github",
        "colab_type": "text"
      },
      "source": [
        "<a href=\"https://colab.research.google.com/github/ktasha45/sprout-class-2022/blob/master/tensorflow_1.ipynb\" target=\"_parent\"><img src=\"https://colab.research.google.com/assets/colab-badge.svg\" alt=\"Open In Colab\"/></a>"
      ]
    },
    {
      "cell_type": "markdown",
      "source": [
        "# 단순 신경망"
      ],
      "metadata": {
        "id": "3VWwrSA2manu"
      }
    },
    {
      "cell_type": "code",
      "execution_count": null,
      "metadata": {
        "id": "abcBywTrWbn8"
      },
      "outputs": [],
      "source": [
        "import tensorflow as tf\n",
        "import numpy as np\n",
        "from tensorflow import keras"
      ]
    },
    {
      "cell_type": "code",
      "source": [
        "EPOCHS = 200\n",
        "BATCH_SIZE = 128\n",
        "VERBOSE = 1\n",
        "NB_CLASSES = 10\n",
        "N_HIDDEN = 128\n",
        "VALIDATION_SPLIT = 0.2\n",
        "\n",
        "RESHAPED = 784"
      ],
      "metadata": {
        "id": "ji1bEKzOXZRz"
      },
      "execution_count": null,
      "outputs": []
    },
    {
      "cell_type": "code",
      "source": [
        "(X_train, Y_train), (X_test, Y_test) = keras.datasets.mnist.load_data()"
      ],
      "metadata": {
        "colab": {
          "base_uri": "https://localhost:8080/"
        },
        "id": "PgMEYYBkmwfk",
        "outputId": "e71b6400-f521-40f9-b80b-0e894e3c6317"
      },
      "execution_count": null,
      "outputs": [
        {
          "output_type": "stream",
          "name": "stdout",
          "text": [
            "Downloading data from https://storage.googleapis.com/tensorflow/tf-keras-datasets/mnist.npz\n",
            "11493376/11490434 [==============================] - 0s 0us/step\n",
            "11501568/11490434 [==============================] - 0s 0us/step\n"
          ]
        }
      ]
    },
    {
      "cell_type": "code",
      "source": [
        "print(X_train.shape, Y_train.shape, X_test.shape, Y_test.shape)\n",
        "print(X_train.dtype, Y_train.dtype, X_test.dtype, Y_test.dtype)"
      ],
      "metadata": {
        "colab": {
          "base_uri": "https://localhost:8080/"
        },
        "id": "cSL3_BatnMXB",
        "outputId": "666be669-c902-441f-b377-0750d1cb6c7c"
      },
      "execution_count": null,
      "outputs": [
        {
          "output_type": "stream",
          "name": "stdout",
          "text": [
            "(60000, 28, 28) (60000,) (10000, 28, 28) (10000,)\n",
            "uint8 uint8 uint8 uint8\n"
          ]
        }
      ]
    },
    {
      "cell_type": "code",
      "source": [
        "X_train = X_train.reshape(-1, RESHAPED)\n",
        "X_test = X_test.reshape(-1, RESHAPED)\n",
        "\n",
        "X_train = X_train.astype('float32') / 255\n",
        "X_test = X_test.astype('float32') / 255\n",
        "\n",
        "Y_train = keras.utils.to_categorical(Y_train, NB_CLASSES)\n",
        "Y_test = keras.utils.to_categorical(Y_test, NB_CLASSES)"
      ],
      "metadata": {
        "id": "oa83TPGFm_nV"
      },
      "execution_count": null,
      "outputs": []
    },
    {
      "cell_type": "code",
      "source": [
        "print(X_train.shape, Y_train.shape, X_test.shape, Y_test.shape)\n",
        "print(X_train.dtype, Y_train.dtype, X_test.dtype, Y_test.dtype)"
      ],
      "metadata": {
        "colab": {
          "base_uri": "https://localhost:8080/"
        },
        "id": "RevV1BE1oAX4",
        "outputId": "a00210b2-b241-4358-fe68-39d6ab551c44"
      },
      "execution_count": null,
      "outputs": [
        {
          "output_type": "stream",
          "name": "stdout",
          "text": [
            "(60000, 784) (60000, 10) (10000, 784) (10000, 10)\n",
            "float32 float32 float32 float32\n"
          ]
        }
      ]
    },
    {
      "cell_type": "code",
      "source": [
        "model = keras.models.Sequential()\n",
        "model.add(keras.layers.Dense(NB_CLASSES, \n",
        "                             input_shape = (RESHAPED, ),\n",
        "                             name = 'dense_layer_1',\n",
        "                             activation = 'softmax'))"
      ],
      "metadata": {
        "id": "kWB2qN97oAm9"
      },
      "execution_count": null,
      "outputs": []
    },
    {
      "cell_type": "code",
      "source": [
        "model.compile(optimizer = 'SGD',\n",
        "              loss = 'categorical_crossentropy',\n",
        "              metrics = ['accuracy'])\n",
        "\n",
        "model.compile()"
      ],
      "metadata": {
        "id": "cnN1ivXBpXhB"
      },
      "execution_count": null,
      "outputs": []
    },
    {
      "cell_type": "code",
      "source": [
        "model.fit(X_train, Y_train,\n",
        "          batch_size = BATCH_SIZE,\n",
        "          epochs = EPOCHS,\n",
        "          verbose = VERBOSE,\n",
        "          validation_split = VALIDATION_SPLIT)"
      ],
      "metadata": {
        "colab": {
          "base_uri": "https://localhost:8080/"
        },
        "id": "5Qg6QoYQphAi",
        "outputId": "02257ad2-887e-4236-9a92-e1a5cc555a40"
      },
      "execution_count": null,
      "outputs": [
        {
          "output_type": "stream",
          "name": "stdout",
          "text": [
            "Epoch 1/200\n",
            "375/375 [==============================] - 2s 3ms/step - loss: 1.3879 - accuracy: 0.6546 - val_loss: 0.9018 - val_accuracy: 0.8190\n",
            "Epoch 2/200\n",
            "375/375 [==============================] - 1s 2ms/step - loss: 0.7978 - accuracy: 0.8250 - val_loss: 0.6609 - val_accuracy: 0.8558\n",
            "Epoch 3/200\n",
            "375/375 [==============================] - 1s 3ms/step - loss: 0.6458 - accuracy: 0.8494 - val_loss: 0.5638 - val_accuracy: 0.8702\n",
            "Epoch 4/200\n",
            "375/375 [==============================] - 1s 3ms/step - loss: 0.5723 - accuracy: 0.8614 - val_loss: 0.5100 - val_accuracy: 0.8758\n",
            "Epoch 5/200\n",
            "375/375 [==============================] - 1s 3ms/step - loss: 0.5276 - accuracy: 0.8684 - val_loss: 0.4757 - val_accuracy: 0.8810\n",
            "Epoch 6/200\n",
            "375/375 [==============================] - 1s 2ms/step - loss: 0.4971 - accuracy: 0.8738 - val_loss: 0.4511 - val_accuracy: 0.8851\n",
            "Epoch 7/200\n",
            "375/375 [==============================] - 1s 2ms/step - loss: 0.4745 - accuracy: 0.8771 - val_loss: 0.4329 - val_accuracy: 0.8887\n",
            "Epoch 8/200\n",
            "375/375 [==============================] - 1s 3ms/step - loss: 0.4570 - accuracy: 0.8804 - val_loss: 0.4186 - val_accuracy: 0.8903\n",
            "Epoch 9/200\n",
            "375/375 [==============================] - 1s 2ms/step - loss: 0.4430 - accuracy: 0.8834 - val_loss: 0.4071 - val_accuracy: 0.8920\n",
            "Epoch 10/200\n",
            "375/375 [==============================] - 1s 2ms/step - loss: 0.4314 - accuracy: 0.8852 - val_loss: 0.3974 - val_accuracy: 0.8950\n",
            "Epoch 11/200\n",
            "375/375 [==============================] - 1s 2ms/step - loss: 0.4215 - accuracy: 0.8873 - val_loss: 0.3891 - val_accuracy: 0.8965\n",
            "Epoch 12/200\n",
            "375/375 [==============================] - 1s 3ms/step - loss: 0.4131 - accuracy: 0.8891 - val_loss: 0.3824 - val_accuracy: 0.8973\n",
            "Epoch 13/200\n",
            "375/375 [==============================] - 1s 3ms/step - loss: 0.4057 - accuracy: 0.8908 - val_loss: 0.3761 - val_accuracy: 0.8986\n",
            "Epoch 14/200\n",
            "375/375 [==============================] - 1s 2ms/step - loss: 0.3993 - accuracy: 0.8921 - val_loss: 0.3706 - val_accuracy: 0.8997\n",
            "Epoch 15/200\n",
            "375/375 [==============================] - 1s 3ms/step - loss: 0.3934 - accuracy: 0.8931 - val_loss: 0.3659 - val_accuracy: 0.9009\n",
            "Epoch 16/200\n",
            "375/375 [==============================] - 1s 2ms/step - loss: 0.3883 - accuracy: 0.8944 - val_loss: 0.3615 - val_accuracy: 0.9019\n",
            "Epoch 17/200\n",
            "375/375 [==============================] - 1s 2ms/step - loss: 0.3835 - accuracy: 0.8949 - val_loss: 0.3577 - val_accuracy: 0.9025\n",
            "Epoch 18/200\n",
            "375/375 [==============================] - 1s 2ms/step - loss: 0.3793 - accuracy: 0.8961 - val_loss: 0.3541 - val_accuracy: 0.9030\n",
            "Epoch 19/200\n",
            "375/375 [==============================] - 1s 3ms/step - loss: 0.3754 - accuracy: 0.8969 - val_loss: 0.3509 - val_accuracy: 0.9043\n",
            "Epoch 20/200\n",
            "375/375 [==============================] - 1s 3ms/step - loss: 0.3717 - accuracy: 0.8979 - val_loss: 0.3479 - val_accuracy: 0.9046\n",
            "Epoch 21/200\n",
            "375/375 [==============================] - 1s 2ms/step - loss: 0.3684 - accuracy: 0.8984 - val_loss: 0.3451 - val_accuracy: 0.9050\n",
            "Epoch 22/200\n",
            "375/375 [==============================] - 1s 3ms/step - loss: 0.3653 - accuracy: 0.8990 - val_loss: 0.3425 - val_accuracy: 0.9055\n",
            "Epoch 23/200\n",
            "375/375 [==============================] - 1s 3ms/step - loss: 0.3623 - accuracy: 0.8999 - val_loss: 0.3403 - val_accuracy: 0.9063\n",
            "Epoch 24/200\n",
            "375/375 [==============================] - 1s 3ms/step - loss: 0.3597 - accuracy: 0.9001 - val_loss: 0.3380 - val_accuracy: 0.9070\n",
            "Epoch 25/200\n",
            "375/375 [==============================] - 1s 3ms/step - loss: 0.3571 - accuracy: 0.9012 - val_loss: 0.3359 - val_accuracy: 0.9077\n",
            "Epoch 26/200\n",
            "375/375 [==============================] - 1s 3ms/step - loss: 0.3548 - accuracy: 0.9017 - val_loss: 0.3339 - val_accuracy: 0.9082\n",
            "Epoch 27/200\n",
            "375/375 [==============================] - 1s 3ms/step - loss: 0.3525 - accuracy: 0.9021 - val_loss: 0.3321 - val_accuracy: 0.9086\n",
            "Epoch 28/200\n",
            "375/375 [==============================] - 1s 3ms/step - loss: 0.3504 - accuracy: 0.9025 - val_loss: 0.3304 - val_accuracy: 0.9092\n",
            "Epoch 29/200\n",
            "375/375 [==============================] - 1s 3ms/step - loss: 0.3484 - accuracy: 0.9032 - val_loss: 0.3288 - val_accuracy: 0.9094\n",
            "Epoch 30/200\n",
            "375/375 [==============================] - 1s 3ms/step - loss: 0.3464 - accuracy: 0.9034 - val_loss: 0.3272 - val_accuracy: 0.9100\n",
            "Epoch 31/200\n",
            "375/375 [==============================] - 1s 3ms/step - loss: 0.3446 - accuracy: 0.9040 - val_loss: 0.3257 - val_accuracy: 0.9104\n",
            "Epoch 32/200\n",
            "375/375 [==============================] - 1s 3ms/step - loss: 0.3428 - accuracy: 0.9044 - val_loss: 0.3244 - val_accuracy: 0.9111\n",
            "Epoch 33/200\n",
            "375/375 [==============================] - 1s 3ms/step - loss: 0.3413 - accuracy: 0.9051 - val_loss: 0.3229 - val_accuracy: 0.9120\n",
            "Epoch 34/200\n",
            "375/375 [==============================] - 1s 3ms/step - loss: 0.3397 - accuracy: 0.9052 - val_loss: 0.3217 - val_accuracy: 0.9120\n",
            "Epoch 35/200\n",
            "375/375 [==============================] - 1s 3ms/step - loss: 0.3381 - accuracy: 0.9057 - val_loss: 0.3204 - val_accuracy: 0.9122\n",
            "Epoch 36/200\n",
            "375/375 [==============================] - 1s 3ms/step - loss: 0.3367 - accuracy: 0.9060 - val_loss: 0.3192 - val_accuracy: 0.9127\n",
            "Epoch 37/200\n",
            "375/375 [==============================] - 1s 3ms/step - loss: 0.3353 - accuracy: 0.9064 - val_loss: 0.3181 - val_accuracy: 0.9135\n",
            "Epoch 38/200\n",
            "375/375 [==============================] - 1s 3ms/step - loss: 0.3340 - accuracy: 0.9069 - val_loss: 0.3170 - val_accuracy: 0.9131\n",
            "Epoch 39/200\n",
            "375/375 [==============================] - 1s 3ms/step - loss: 0.3327 - accuracy: 0.9072 - val_loss: 0.3162 - val_accuracy: 0.9138\n",
            "Epoch 40/200\n",
            "375/375 [==============================] - 1s 3ms/step - loss: 0.3314 - accuracy: 0.9074 - val_loss: 0.3150 - val_accuracy: 0.9133\n",
            "Epoch 41/200\n",
            "375/375 [==============================] - 1s 2ms/step - loss: 0.3302 - accuracy: 0.9078 - val_loss: 0.3142 - val_accuracy: 0.9134\n",
            "Epoch 42/200\n",
            "375/375 [==============================] - 1s 3ms/step - loss: 0.3291 - accuracy: 0.9082 - val_loss: 0.3133 - val_accuracy: 0.9139\n",
            "Epoch 43/200\n",
            "375/375 [==============================] - 1s 3ms/step - loss: 0.3280 - accuracy: 0.9084 - val_loss: 0.3123 - val_accuracy: 0.9138\n",
            "Epoch 44/200\n",
            "375/375 [==============================] - 1s 3ms/step - loss: 0.3270 - accuracy: 0.9087 - val_loss: 0.3114 - val_accuracy: 0.9141\n",
            "Epoch 45/200\n",
            "375/375 [==============================] - 1s 3ms/step - loss: 0.3259 - accuracy: 0.9087 - val_loss: 0.3107 - val_accuracy: 0.9138\n",
            "Epoch 46/200\n",
            "375/375 [==============================] - 1s 3ms/step - loss: 0.3249 - accuracy: 0.9092 - val_loss: 0.3099 - val_accuracy: 0.9144\n",
            "Epoch 47/200\n",
            "375/375 [==============================] - 1s 2ms/step - loss: 0.3240 - accuracy: 0.9093 - val_loss: 0.3091 - val_accuracy: 0.9143\n",
            "Epoch 48/200\n",
            "375/375 [==============================] - 1s 3ms/step - loss: 0.3230 - accuracy: 0.9096 - val_loss: 0.3084 - val_accuracy: 0.9147\n",
            "Epoch 49/200\n",
            "375/375 [==============================] - 1s 2ms/step - loss: 0.3221 - accuracy: 0.9099 - val_loss: 0.3076 - val_accuracy: 0.9153\n",
            "Epoch 50/200\n",
            "375/375 [==============================] - 1s 3ms/step - loss: 0.3212 - accuracy: 0.9103 - val_loss: 0.3069 - val_accuracy: 0.9155\n",
            "Epoch 51/200\n",
            "375/375 [==============================] - 1s 3ms/step - loss: 0.3203 - accuracy: 0.9106 - val_loss: 0.3062 - val_accuracy: 0.9153\n",
            "Epoch 52/200\n",
            "375/375 [==============================] - 1s 3ms/step - loss: 0.3195 - accuracy: 0.9109 - val_loss: 0.3056 - val_accuracy: 0.9153\n",
            "Epoch 53/200\n",
            "375/375 [==============================] - 1s 3ms/step - loss: 0.3187 - accuracy: 0.9111 - val_loss: 0.3050 - val_accuracy: 0.9153\n",
            "Epoch 54/200\n",
            "375/375 [==============================] - 1s 2ms/step - loss: 0.3179 - accuracy: 0.9114 - val_loss: 0.3043 - val_accuracy: 0.9161\n",
            "Epoch 55/200\n",
            "375/375 [==============================] - 1s 3ms/step - loss: 0.3172 - accuracy: 0.9114 - val_loss: 0.3038 - val_accuracy: 0.9158\n",
            "Epoch 56/200\n",
            "375/375 [==============================] - 1s 2ms/step - loss: 0.3164 - accuracy: 0.9119 - val_loss: 0.3032 - val_accuracy: 0.9159\n",
            "Epoch 57/200\n",
            "375/375 [==============================] - 1s 3ms/step - loss: 0.3157 - accuracy: 0.9120 - val_loss: 0.3026 - val_accuracy: 0.9160\n",
            "Epoch 58/200\n",
            "375/375 [==============================] - 1s 2ms/step - loss: 0.3150 - accuracy: 0.9122 - val_loss: 0.3020 - val_accuracy: 0.9160\n",
            "Epoch 59/200\n",
            "375/375 [==============================] - 1s 3ms/step - loss: 0.3143 - accuracy: 0.9126 - val_loss: 0.3016 - val_accuracy: 0.9162\n",
            "Epoch 60/200\n",
            "375/375 [==============================] - 1s 2ms/step - loss: 0.3136 - accuracy: 0.9124 - val_loss: 0.3010 - val_accuracy: 0.9160\n",
            "Epoch 61/200\n",
            "375/375 [==============================] - 1s 3ms/step - loss: 0.3130 - accuracy: 0.9126 - val_loss: 0.3005 - val_accuracy: 0.9160\n",
            "Epoch 62/200\n",
            "375/375 [==============================] - 1s 3ms/step - loss: 0.3123 - accuracy: 0.9131 - val_loss: 0.3000 - val_accuracy: 0.9168\n",
            "Epoch 63/200\n",
            "375/375 [==============================] - 1s 3ms/step - loss: 0.3117 - accuracy: 0.9132 - val_loss: 0.2995 - val_accuracy: 0.9163\n",
            "Epoch 64/200\n",
            "375/375 [==============================] - 1s 3ms/step - loss: 0.3111 - accuracy: 0.9131 - val_loss: 0.2990 - val_accuracy: 0.9166\n",
            "Epoch 65/200\n",
            "375/375 [==============================] - 1s 3ms/step - loss: 0.3105 - accuracy: 0.9134 - val_loss: 0.2986 - val_accuracy: 0.9167\n",
            "Epoch 66/200\n",
            "375/375 [==============================] - 1s 3ms/step - loss: 0.3099 - accuracy: 0.9135 - val_loss: 0.2982 - val_accuracy: 0.9168\n",
            "Epoch 67/200\n",
            "375/375 [==============================] - 1s 3ms/step - loss: 0.3093 - accuracy: 0.9138 - val_loss: 0.2976 - val_accuracy: 0.9170\n",
            "Epoch 68/200\n",
            "375/375 [==============================] - 1s 3ms/step - loss: 0.3087 - accuracy: 0.9138 - val_loss: 0.2973 - val_accuracy: 0.9168\n",
            "Epoch 69/200\n",
            "375/375 [==============================] - 1s 3ms/step - loss: 0.3082 - accuracy: 0.9144 - val_loss: 0.2969 - val_accuracy: 0.9174\n",
            "Epoch 70/200\n",
            "375/375 [==============================] - 1s 3ms/step - loss: 0.3077 - accuracy: 0.9141 - val_loss: 0.2964 - val_accuracy: 0.9167\n",
            "Epoch 71/200\n",
            "375/375 [==============================] - 1s 3ms/step - loss: 0.3072 - accuracy: 0.9144 - val_loss: 0.2961 - val_accuracy: 0.9171\n",
            "Epoch 72/200\n",
            "375/375 [==============================] - 1s 3ms/step - loss: 0.3066 - accuracy: 0.9143 - val_loss: 0.2957 - val_accuracy: 0.9172\n",
            "Epoch 73/200\n",
            "375/375 [==============================] - 1s 3ms/step - loss: 0.3062 - accuracy: 0.9147 - val_loss: 0.2953 - val_accuracy: 0.9176\n",
            "Epoch 74/200\n",
            "375/375 [==============================] - 1s 3ms/step - loss: 0.3056 - accuracy: 0.9146 - val_loss: 0.2949 - val_accuracy: 0.9175\n",
            "Epoch 75/200\n",
            "375/375 [==============================] - 1s 3ms/step - loss: 0.3052 - accuracy: 0.9148 - val_loss: 0.2946 - val_accuracy: 0.9182\n",
            "Epoch 76/200\n",
            "375/375 [==============================] - 1s 3ms/step - loss: 0.3047 - accuracy: 0.9151 - val_loss: 0.2942 - val_accuracy: 0.9180\n",
            "Epoch 77/200\n",
            "375/375 [==============================] - 1s 3ms/step - loss: 0.3042 - accuracy: 0.9150 - val_loss: 0.2939 - val_accuracy: 0.9177\n",
            "Epoch 78/200\n",
            "375/375 [==============================] - 1s 3ms/step - loss: 0.3037 - accuracy: 0.9153 - val_loss: 0.2936 - val_accuracy: 0.9179\n",
            "Epoch 79/200\n",
            "375/375 [==============================] - 1s 3ms/step - loss: 0.3033 - accuracy: 0.9157 - val_loss: 0.2932 - val_accuracy: 0.9183\n",
            "Epoch 80/200\n",
            "375/375 [==============================] - 1s 3ms/step - loss: 0.3028 - accuracy: 0.9156 - val_loss: 0.2929 - val_accuracy: 0.9185\n",
            "Epoch 81/200\n",
            "375/375 [==============================] - 1s 2ms/step - loss: 0.3024 - accuracy: 0.9155 - val_loss: 0.2925 - val_accuracy: 0.9183\n",
            "Epoch 82/200\n",
            "375/375 [==============================] - 1s 3ms/step - loss: 0.3020 - accuracy: 0.9155 - val_loss: 0.2922 - val_accuracy: 0.9186\n",
            "Epoch 83/200\n",
            "375/375 [==============================] - 1s 3ms/step - loss: 0.3016 - accuracy: 0.9159 - val_loss: 0.2919 - val_accuracy: 0.9192\n",
            "Epoch 84/200\n",
            "375/375 [==============================] - 1s 3ms/step - loss: 0.3012 - accuracy: 0.9158 - val_loss: 0.2916 - val_accuracy: 0.9187\n",
            "Epoch 85/200\n",
            "375/375 [==============================] - 1s 3ms/step - loss: 0.3008 - accuracy: 0.9160 - val_loss: 0.2914 - val_accuracy: 0.9193\n",
            "Epoch 86/200\n",
            "375/375 [==============================] - 1s 3ms/step - loss: 0.3004 - accuracy: 0.9162 - val_loss: 0.2910 - val_accuracy: 0.9187\n",
            "Epoch 87/200\n",
            "375/375 [==============================] - 1s 3ms/step - loss: 0.3000 - accuracy: 0.9160 - val_loss: 0.2907 - val_accuracy: 0.9191\n",
            "Epoch 88/200\n",
            "375/375 [==============================] - 1s 3ms/step - loss: 0.2996 - accuracy: 0.9161 - val_loss: 0.2905 - val_accuracy: 0.9189\n",
            "Epoch 89/200\n",
            "375/375 [==============================] - 1s 3ms/step - loss: 0.2992 - accuracy: 0.9163 - val_loss: 0.2902 - val_accuracy: 0.9192\n",
            "Epoch 90/200\n",
            "375/375 [==============================] - 1s 3ms/step - loss: 0.2988 - accuracy: 0.9163 - val_loss: 0.2899 - val_accuracy: 0.9196\n",
            "Epoch 91/200\n",
            "375/375 [==============================] - 1s 3ms/step - loss: 0.2985 - accuracy: 0.9165 - val_loss: 0.2896 - val_accuracy: 0.9194\n",
            "Epoch 92/200\n",
            "375/375 [==============================] - 1s 3ms/step - loss: 0.2981 - accuracy: 0.9167 - val_loss: 0.2895 - val_accuracy: 0.9191\n",
            "Epoch 93/200\n",
            "375/375 [==============================] - 1s 3ms/step - loss: 0.2978 - accuracy: 0.9169 - val_loss: 0.2891 - val_accuracy: 0.9197\n",
            "Epoch 94/200\n",
            "375/375 [==============================] - 1s 3ms/step - loss: 0.2974 - accuracy: 0.9169 - val_loss: 0.2888 - val_accuracy: 0.9193\n",
            "Epoch 95/200\n",
            "375/375 [==============================] - 1s 2ms/step - loss: 0.2971 - accuracy: 0.9171 - val_loss: 0.2886 - val_accuracy: 0.9198\n",
            "Epoch 96/200\n",
            "375/375 [==============================] - 1s 3ms/step - loss: 0.2967 - accuracy: 0.9170 - val_loss: 0.2884 - val_accuracy: 0.9195\n",
            "Epoch 97/200\n",
            "375/375 [==============================] - 1s 3ms/step - loss: 0.2964 - accuracy: 0.9170 - val_loss: 0.2881 - val_accuracy: 0.9197\n",
            "Epoch 98/200\n",
            "375/375 [==============================] - 1s 3ms/step - loss: 0.2960 - accuracy: 0.9171 - val_loss: 0.2879 - val_accuracy: 0.9196\n",
            "Epoch 99/200\n",
            "375/375 [==============================] - 1s 3ms/step - loss: 0.2957 - accuracy: 0.9176 - val_loss: 0.2877 - val_accuracy: 0.9197\n",
            "Epoch 100/200\n",
            "375/375 [==============================] - 1s 3ms/step - loss: 0.2954 - accuracy: 0.9176 - val_loss: 0.2875 - val_accuracy: 0.9197\n",
            "Epoch 101/200\n",
            "375/375 [==============================] - 1s 3ms/step - loss: 0.2951 - accuracy: 0.9173 - val_loss: 0.2872 - val_accuracy: 0.9194\n",
            "Epoch 102/200\n",
            "375/375 [==============================] - 1s 3ms/step - loss: 0.2948 - accuracy: 0.9175 - val_loss: 0.2870 - val_accuracy: 0.9197\n",
            "Epoch 103/200\n",
            "375/375 [==============================] - 1s 3ms/step - loss: 0.2945 - accuracy: 0.9176 - val_loss: 0.2868 - val_accuracy: 0.9203\n",
            "Epoch 104/200\n",
            "375/375 [==============================] - 1s 3ms/step - loss: 0.2942 - accuracy: 0.9176 - val_loss: 0.2866 - val_accuracy: 0.9197\n",
            "Epoch 105/200\n",
            "375/375 [==============================] - 1s 3ms/step - loss: 0.2939 - accuracy: 0.9177 - val_loss: 0.2864 - val_accuracy: 0.9201\n",
            "Epoch 106/200\n",
            "375/375 [==============================] - 1s 3ms/step - loss: 0.2936 - accuracy: 0.9179 - val_loss: 0.2861 - val_accuracy: 0.9203\n",
            "Epoch 107/200\n",
            "375/375 [==============================] - 1s 3ms/step - loss: 0.2933 - accuracy: 0.9177 - val_loss: 0.2860 - val_accuracy: 0.9197\n",
            "Epoch 108/200\n",
            "375/375 [==============================] - 1s 3ms/step - loss: 0.2930 - accuracy: 0.9179 - val_loss: 0.2858 - val_accuracy: 0.9197\n",
            "Epoch 109/200\n",
            "375/375 [==============================] - 1s 3ms/step - loss: 0.2927 - accuracy: 0.9179 - val_loss: 0.2856 - val_accuracy: 0.9199\n",
            "Epoch 110/200\n",
            "375/375 [==============================] - 1s 3ms/step - loss: 0.2924 - accuracy: 0.9184 - val_loss: 0.2854 - val_accuracy: 0.9206\n",
            "Epoch 111/200\n",
            "375/375 [==============================] - 1s 3ms/step - loss: 0.2922 - accuracy: 0.9181 - val_loss: 0.2853 - val_accuracy: 0.9198\n",
            "Epoch 112/200\n",
            "375/375 [==============================] - 1s 3ms/step - loss: 0.2919 - accuracy: 0.9184 - val_loss: 0.2850 - val_accuracy: 0.9202\n",
            "Epoch 113/200\n",
            "375/375 [==============================] - 1s 3ms/step - loss: 0.2916 - accuracy: 0.9184 - val_loss: 0.2848 - val_accuracy: 0.9201\n",
            "Epoch 114/200\n",
            "375/375 [==============================] - 1s 3ms/step - loss: 0.2914 - accuracy: 0.9181 - val_loss: 0.2847 - val_accuracy: 0.9201\n",
            "Epoch 115/200\n",
            "375/375 [==============================] - 1s 3ms/step - loss: 0.2911 - accuracy: 0.9188 - val_loss: 0.2844 - val_accuracy: 0.9203\n",
            "Epoch 116/200\n",
            "375/375 [==============================] - 1s 3ms/step - loss: 0.2908 - accuracy: 0.9184 - val_loss: 0.2842 - val_accuracy: 0.9201\n",
            "Epoch 117/200\n",
            "375/375 [==============================] - 1s 3ms/step - loss: 0.2906 - accuracy: 0.9188 - val_loss: 0.2841 - val_accuracy: 0.9204\n",
            "Epoch 118/200\n",
            "375/375 [==============================] - 1s 3ms/step - loss: 0.2904 - accuracy: 0.9187 - val_loss: 0.2839 - val_accuracy: 0.9207\n",
            "Epoch 119/200\n",
            "375/375 [==============================] - 1s 3ms/step - loss: 0.2901 - accuracy: 0.9189 - val_loss: 0.2838 - val_accuracy: 0.9205\n",
            "Epoch 120/200\n",
            "375/375 [==============================] - 1s 3ms/step - loss: 0.2899 - accuracy: 0.9190 - val_loss: 0.2835 - val_accuracy: 0.9206\n",
            "Epoch 121/200\n",
            "375/375 [==============================] - 1s 3ms/step - loss: 0.2896 - accuracy: 0.9190 - val_loss: 0.2834 - val_accuracy: 0.9205\n",
            "Epoch 122/200\n",
            "375/375 [==============================] - 1s 3ms/step - loss: 0.2894 - accuracy: 0.9193 - val_loss: 0.2833 - val_accuracy: 0.9208\n",
            "Epoch 123/200\n",
            "375/375 [==============================] - 1s 3ms/step - loss: 0.2891 - accuracy: 0.9192 - val_loss: 0.2830 - val_accuracy: 0.9205\n",
            "Epoch 124/200\n",
            "375/375 [==============================] - 1s 3ms/step - loss: 0.2889 - accuracy: 0.9192 - val_loss: 0.2830 - val_accuracy: 0.9205\n",
            "Epoch 125/200\n",
            "375/375 [==============================] - 1s 3ms/step - loss: 0.2887 - accuracy: 0.9192 - val_loss: 0.2828 - val_accuracy: 0.9207\n",
            "Epoch 126/200\n",
            "375/375 [==============================] - 1s 3ms/step - loss: 0.2884 - accuracy: 0.9193 - val_loss: 0.2826 - val_accuracy: 0.9211\n",
            "Epoch 127/200\n",
            "375/375 [==============================] - 1s 3ms/step - loss: 0.2882 - accuracy: 0.9194 - val_loss: 0.2825 - val_accuracy: 0.9205\n",
            "Epoch 128/200\n",
            "375/375 [==============================] - 1s 3ms/step - loss: 0.2880 - accuracy: 0.9194 - val_loss: 0.2823 - val_accuracy: 0.9208\n",
            "Epoch 129/200\n",
            "375/375 [==============================] - 1s 3ms/step - loss: 0.2878 - accuracy: 0.9195 - val_loss: 0.2821 - val_accuracy: 0.9205\n",
            "Epoch 130/200\n",
            "375/375 [==============================] - 1s 3ms/step - loss: 0.2875 - accuracy: 0.9196 - val_loss: 0.2820 - val_accuracy: 0.9207\n",
            "Epoch 131/200\n",
            "375/375 [==============================] - 1s 3ms/step - loss: 0.2873 - accuracy: 0.9194 - val_loss: 0.2818 - val_accuracy: 0.9208\n",
            "Epoch 132/200\n",
            "375/375 [==============================] - 1s 3ms/step - loss: 0.2871 - accuracy: 0.9196 - val_loss: 0.2817 - val_accuracy: 0.9209\n",
            "Epoch 133/200\n",
            "375/375 [==============================] - 1s 3ms/step - loss: 0.2869 - accuracy: 0.9196 - val_loss: 0.2817 - val_accuracy: 0.9206\n",
            "Epoch 134/200\n",
            "375/375 [==============================] - 1s 3ms/step - loss: 0.2867 - accuracy: 0.9197 - val_loss: 0.2815 - val_accuracy: 0.9207\n",
            "Epoch 135/200\n",
            "375/375 [==============================] - 1s 3ms/step - loss: 0.2865 - accuracy: 0.9197 - val_loss: 0.2813 - val_accuracy: 0.9208\n",
            "Epoch 136/200\n",
            "375/375 [==============================] - 1s 3ms/step - loss: 0.2863 - accuracy: 0.9197 - val_loss: 0.2812 - val_accuracy: 0.9212\n",
            "Epoch 137/200\n",
            "375/375 [==============================] - 1s 3ms/step - loss: 0.2861 - accuracy: 0.9198 - val_loss: 0.2810 - val_accuracy: 0.9208\n",
            "Epoch 138/200\n",
            "375/375 [==============================] - 1s 3ms/step - loss: 0.2858 - accuracy: 0.9200 - val_loss: 0.2809 - val_accuracy: 0.9208\n",
            "Epoch 139/200\n",
            "375/375 [==============================] - 1s 3ms/step - loss: 0.2857 - accuracy: 0.9199 - val_loss: 0.2807 - val_accuracy: 0.9208\n",
            "Epoch 140/200\n",
            "375/375 [==============================] - 1s 3ms/step - loss: 0.2855 - accuracy: 0.9198 - val_loss: 0.2806 - val_accuracy: 0.9211\n",
            "Epoch 141/200\n",
            "375/375 [==============================] - 1s 3ms/step - loss: 0.2853 - accuracy: 0.9202 - val_loss: 0.2805 - val_accuracy: 0.9211\n",
            "Epoch 142/200\n",
            "375/375 [==============================] - 1s 3ms/step - loss: 0.2851 - accuracy: 0.9203 - val_loss: 0.2804 - val_accuracy: 0.9210\n",
            "Epoch 143/200\n",
            "375/375 [==============================] - 1s 3ms/step - loss: 0.2849 - accuracy: 0.9203 - val_loss: 0.2803 - val_accuracy: 0.9209\n",
            "Epoch 144/200\n",
            "375/375 [==============================] - 1s 3ms/step - loss: 0.2847 - accuracy: 0.9201 - val_loss: 0.2802 - val_accuracy: 0.9213\n",
            "Epoch 145/200\n",
            "375/375 [==============================] - 1s 3ms/step - loss: 0.2845 - accuracy: 0.9201 - val_loss: 0.2800 - val_accuracy: 0.9218\n",
            "Epoch 146/200\n",
            "375/375 [==============================] - 1s 3ms/step - loss: 0.2843 - accuracy: 0.9203 - val_loss: 0.2799 - val_accuracy: 0.9211\n",
            "Epoch 147/200\n",
            "375/375 [==============================] - 1s 3ms/step - loss: 0.2841 - accuracy: 0.9205 - val_loss: 0.2798 - val_accuracy: 0.9215\n",
            "Epoch 148/200\n",
            "375/375 [==============================] - 1s 3ms/step - loss: 0.2840 - accuracy: 0.9204 - val_loss: 0.2797 - val_accuracy: 0.9215\n",
            "Epoch 149/200\n",
            "375/375 [==============================] - 1s 3ms/step - loss: 0.2837 - accuracy: 0.9206 - val_loss: 0.2796 - val_accuracy: 0.9213\n",
            "Epoch 150/200\n",
            "375/375 [==============================] - 1s 3ms/step - loss: 0.2836 - accuracy: 0.9206 - val_loss: 0.2794 - val_accuracy: 0.9215\n",
            "Epoch 151/200\n",
            "375/375 [==============================] - 1s 3ms/step - loss: 0.2834 - accuracy: 0.9206 - val_loss: 0.2793 - val_accuracy: 0.9216\n",
            "Epoch 152/200\n",
            "375/375 [==============================] - 1s 3ms/step - loss: 0.2832 - accuracy: 0.9206 - val_loss: 0.2791 - val_accuracy: 0.9218\n",
            "Epoch 153/200\n",
            "375/375 [==============================] - 1s 3ms/step - loss: 0.2831 - accuracy: 0.9206 - val_loss: 0.2791 - val_accuracy: 0.9220\n",
            "Epoch 154/200\n",
            "375/375 [==============================] - 1s 3ms/step - loss: 0.2829 - accuracy: 0.9207 - val_loss: 0.2789 - val_accuracy: 0.9215\n",
            "Epoch 155/200\n",
            "375/375 [==============================] - 1s 3ms/step - loss: 0.2827 - accuracy: 0.9209 - val_loss: 0.2788 - val_accuracy: 0.9217\n",
            "Epoch 156/200\n",
            "375/375 [==============================] - 1s 3ms/step - loss: 0.2825 - accuracy: 0.9209 - val_loss: 0.2787 - val_accuracy: 0.9217\n",
            "Epoch 157/200\n",
            "375/375 [==============================] - 1s 3ms/step - loss: 0.2823 - accuracy: 0.9207 - val_loss: 0.2787 - val_accuracy: 0.9219\n",
            "Epoch 158/200\n",
            "375/375 [==============================] - 1s 3ms/step - loss: 0.2822 - accuracy: 0.9209 - val_loss: 0.2786 - val_accuracy: 0.9216\n",
            "Epoch 159/200\n",
            "375/375 [==============================] - 1s 3ms/step - loss: 0.2820 - accuracy: 0.9210 - val_loss: 0.2784 - val_accuracy: 0.9222\n",
            "Epoch 160/200\n",
            "375/375 [==============================] - 1s 3ms/step - loss: 0.2819 - accuracy: 0.9211 - val_loss: 0.2783 - val_accuracy: 0.9221\n",
            "Epoch 161/200\n",
            "375/375 [==============================] - 1s 3ms/step - loss: 0.2817 - accuracy: 0.9211 - val_loss: 0.2782 - val_accuracy: 0.9215\n",
            "Epoch 162/200\n",
            "375/375 [==============================] - 1s 3ms/step - loss: 0.2816 - accuracy: 0.9211 - val_loss: 0.2782 - val_accuracy: 0.9223\n",
            "Epoch 163/200\n",
            "375/375 [==============================] - 1s 3ms/step - loss: 0.2814 - accuracy: 0.9212 - val_loss: 0.2781 - val_accuracy: 0.9222\n",
            "Epoch 164/200\n",
            "375/375 [==============================] - 1s 3ms/step - loss: 0.2812 - accuracy: 0.9211 - val_loss: 0.2779 - val_accuracy: 0.9222\n",
            "Epoch 165/200\n",
            "375/375 [==============================] - 1s 3ms/step - loss: 0.2811 - accuracy: 0.9214 - val_loss: 0.2778 - val_accuracy: 0.9222\n",
            "Epoch 166/200\n",
            "375/375 [==============================] - 1s 3ms/step - loss: 0.2809 - accuracy: 0.9212 - val_loss: 0.2778 - val_accuracy: 0.9225\n",
            "Epoch 167/200\n",
            "375/375 [==============================] - 1s 3ms/step - loss: 0.2808 - accuracy: 0.9216 - val_loss: 0.2776 - val_accuracy: 0.9224\n",
            "Epoch 168/200\n",
            "375/375 [==============================] - 1s 3ms/step - loss: 0.2806 - accuracy: 0.9214 - val_loss: 0.2776 - val_accuracy: 0.9226\n",
            "Epoch 169/200\n",
            "375/375 [==============================] - 1s 3ms/step - loss: 0.2804 - accuracy: 0.9216 - val_loss: 0.2774 - val_accuracy: 0.9221\n",
            "Epoch 170/200\n",
            "375/375 [==============================] - 1s 3ms/step - loss: 0.2803 - accuracy: 0.9216 - val_loss: 0.2774 - val_accuracy: 0.9224\n",
            "Epoch 171/200\n",
            "375/375 [==============================] - 1s 3ms/step - loss: 0.2801 - accuracy: 0.9217 - val_loss: 0.2773 - val_accuracy: 0.9223\n",
            "Epoch 172/200\n",
            "375/375 [==============================] - 1s 3ms/step - loss: 0.2800 - accuracy: 0.9214 - val_loss: 0.2771 - val_accuracy: 0.9225\n",
            "Epoch 173/200\n",
            "375/375 [==============================] - 1s 3ms/step - loss: 0.2798 - accuracy: 0.9219 - val_loss: 0.2771 - val_accuracy: 0.9227\n",
            "Epoch 174/200\n",
            "375/375 [==============================] - 1s 3ms/step - loss: 0.2797 - accuracy: 0.9219 - val_loss: 0.2770 - val_accuracy: 0.9227\n",
            "Epoch 175/200\n",
            "375/375 [==============================] - 1s 3ms/step - loss: 0.2795 - accuracy: 0.9220 - val_loss: 0.2769 - val_accuracy: 0.9227\n",
            "Epoch 176/200\n",
            "375/375 [==============================] - 1s 3ms/step - loss: 0.2794 - accuracy: 0.9220 - val_loss: 0.2768 - val_accuracy: 0.9227\n",
            "Epoch 177/200\n",
            "375/375 [==============================] - 1s 2ms/step - loss: 0.2793 - accuracy: 0.9217 - val_loss: 0.2767 - val_accuracy: 0.9227\n",
            "Epoch 178/200\n",
            "375/375 [==============================] - 1s 3ms/step - loss: 0.2791 - accuracy: 0.9218 - val_loss: 0.2767 - val_accuracy: 0.9223\n",
            "Epoch 179/200\n",
            "375/375 [==============================] - 1s 3ms/step - loss: 0.2790 - accuracy: 0.9219 - val_loss: 0.2766 - val_accuracy: 0.9228\n",
            "Epoch 180/200\n",
            "375/375 [==============================] - 1s 3ms/step - loss: 0.2788 - accuracy: 0.9219 - val_loss: 0.2765 - val_accuracy: 0.9227\n",
            "Epoch 181/200\n",
            "375/375 [==============================] - 1s 3ms/step - loss: 0.2787 - accuracy: 0.9221 - val_loss: 0.2764 - val_accuracy: 0.9229\n",
            "Epoch 182/200\n",
            "375/375 [==============================] - 1s 3ms/step - loss: 0.2786 - accuracy: 0.9222 - val_loss: 0.2764 - val_accuracy: 0.9227\n",
            "Epoch 183/200\n",
            "375/375 [==============================] - 1s 3ms/step - loss: 0.2784 - accuracy: 0.9221 - val_loss: 0.2763 - val_accuracy: 0.9227\n",
            "Epoch 184/200\n",
            "375/375 [==============================] - 1s 3ms/step - loss: 0.2783 - accuracy: 0.9224 - val_loss: 0.2762 - val_accuracy: 0.9225\n",
            "Epoch 185/200\n",
            "375/375 [==============================] - 1s 3ms/step - loss: 0.2782 - accuracy: 0.9221 - val_loss: 0.2762 - val_accuracy: 0.9226\n",
            "Epoch 186/200\n",
            "375/375 [==============================] - 1s 3ms/step - loss: 0.2780 - accuracy: 0.9221 - val_loss: 0.2761 - val_accuracy: 0.9228\n",
            "Epoch 187/200\n",
            "375/375 [==============================] - 1s 3ms/step - loss: 0.2779 - accuracy: 0.9224 - val_loss: 0.2759 - val_accuracy: 0.9231\n",
            "Epoch 188/200\n",
            "375/375 [==============================] - 1s 3ms/step - loss: 0.2777 - accuracy: 0.9223 - val_loss: 0.2759 - val_accuracy: 0.9230\n",
            "Epoch 189/200\n",
            "375/375 [==============================] - 1s 3ms/step - loss: 0.2776 - accuracy: 0.9222 - val_loss: 0.2757 - val_accuracy: 0.9232\n",
            "Epoch 190/200\n",
            "375/375 [==============================] - 1s 3ms/step - loss: 0.2775 - accuracy: 0.9226 - val_loss: 0.2756 - val_accuracy: 0.9229\n",
            "Epoch 191/200\n",
            "375/375 [==============================] - 1s 3ms/step - loss: 0.2774 - accuracy: 0.9227 - val_loss: 0.2756 - val_accuracy: 0.9232\n",
            "Epoch 192/200\n",
            "375/375 [==============================] - 1s 3ms/step - loss: 0.2772 - accuracy: 0.9227 - val_loss: 0.2755 - val_accuracy: 0.9231\n",
            "Epoch 193/200\n",
            "375/375 [==============================] - 1s 3ms/step - loss: 0.2771 - accuracy: 0.9225 - val_loss: 0.2755 - val_accuracy: 0.9230\n",
            "Epoch 194/200\n",
            "375/375 [==============================] - 1s 3ms/step - loss: 0.2770 - accuracy: 0.9225 - val_loss: 0.2753 - val_accuracy: 0.9235\n",
            "Epoch 195/200\n",
            "375/375 [==============================] - 1s 3ms/step - loss: 0.2768 - accuracy: 0.9222 - val_loss: 0.2752 - val_accuracy: 0.9231\n",
            "Epoch 196/200\n",
            "375/375 [==============================] - 1s 3ms/step - loss: 0.2767 - accuracy: 0.9225 - val_loss: 0.2752 - val_accuracy: 0.9234\n",
            "Epoch 197/200\n",
            "375/375 [==============================] - 1s 3ms/step - loss: 0.2766 - accuracy: 0.9224 - val_loss: 0.2752 - val_accuracy: 0.9233\n",
            "Epoch 198/200\n",
            "375/375 [==============================] - 1s 3ms/step - loss: 0.2765 - accuracy: 0.9228 - val_loss: 0.2751 - val_accuracy: 0.9230\n",
            "Epoch 199/200\n",
            "375/375 [==============================] - 1s 3ms/step - loss: 0.2764 - accuracy: 0.9228 - val_loss: 0.2750 - val_accuracy: 0.9233\n",
            "Epoch 200/200\n",
            "375/375 [==============================] - 1s 3ms/step - loss: 0.2762 - accuracy: 0.9230 - val_loss: 0.2750 - val_accuracy: 0.9239\n"
          ]
        },
        {
          "output_type": "execute_result",
          "data": {
            "text/plain": [
              "<keras.callbacks.History at 0x7f68467f99d0>"
            ]
          },
          "metadata": {},
          "execution_count": 9
        }
      ]
    },
    {
      "cell_type": "markdown",
      "source": [
        "# tensorflow v1"
      ],
      "metadata": {
        "id": "RR4Bm1H5yxFT"
      }
    },
    {
      "cell_type": "code",
      "source": [
        "import tensorflow.compat.v1 as tf\n",
        "tf.disable_v2_behavior()\n",
        "\n",
        "in_a = tf.placeholder(dtype = tf.float32,\n",
        "                      shape = (2, ))\n",
        "\n",
        "def model(x):\n",
        "  with tf.variable_scope('matmul'):\n",
        "    W = tf.get_variable('W', initializer = tf.ones(shape = (2, 2)))\n",
        "    b = tf.get_variable('b', initializer = tf.zeros(shape = (2, )))\n",
        "    return x * W + b\n",
        "\n",
        "out_a = model(in_a)\n",
        "\n",
        "with tf.Session() as sess:\n",
        "  sess.run(tf.global_variables_initializer())\n",
        "  outs = sess.run([out_a],\n",
        "                  feed_dict={in_a: [1, 0]})\n",
        "  writer = tf.summary.FileWriter(\"./logs/example\", sess.graph)"
      ],
      "metadata": {
        "colab": {
          "base_uri": "https://localhost:8080/"
        },
        "id": "-n1VgTXzyuUS",
        "outputId": "9324d6c6-ac44-49d0-d94c-8ba4eefcdf95"
      },
      "execution_count": null,
      "outputs": [
        {
          "output_type": "stream",
          "name": "stdout",
          "text": [
            "WARNING:tensorflow:From /usr/local/lib/python3.7/dist-packages/tensorflow/python/compat/v2_compat.py:107: disable_resource_variables (from tensorflow.python.ops.variable_scope) is deprecated and will be removed in a future version.\n",
            "Instructions for updating:\n",
            "non-resource variables are not supported in the long term\n"
          ]
        }
      ]
    },
    {
      "cell_type": "code",
      "source": [
        "%load_ext tensorboard\n",
        "%tensorboard --logdir=./logs/example/"
      ],
      "metadata": {
        "id": "V7fMH46Gz--W"
      },
      "execution_count": null,
      "outputs": []
    },
    {
      "cell_type": "markdown",
      "source": [
        "# tensorflow v2\n",
        "autograph"
      ],
      "metadata": {
        "id": "Fua6wyHK1x1I"
      }
    },
    {
      "cell_type": "code",
      "source": [
        "import tensorflow as tf\n",
        "\n",
        "def linear_layer(x):\n",
        "  return 3*x+2\n",
        "\n",
        "@tf.function\n",
        "def simple_nn(x):\n",
        "  return tf.nn.relu(linear_layer(x))\n",
        "\n",
        "print(tf.autograph.to_code(simple_nn.python_function, experimental_optional_features=None))"
      ],
      "metadata": {
        "colab": {
          "base_uri": "https://localhost:8080/"
        },
        "id": "lQcYikpZ0WsE",
        "outputId": "f56587a9-2d97-4b61-a831-5c6e4381636c"
      },
      "execution_count": null,
      "outputs": [
        {
          "output_type": "stream",
          "name": "stdout",
          "text": [
            "def tf__simple_nn(x):\n",
            "    with ag__.FunctionScope('simple_nn', 'fscope', ag__.ConversionOptions(recursive=True, user_requested=True, optional_features=(), internal_convert_user_code=True)) as fscope:\n",
            "        do_return = False\n",
            "        retval_ = ag__.UndefinedReturnValue()\n",
            "        try:\n",
            "            do_return = True\n",
            "            retval_ = ag__.converted_call(ag__.ld(tf).nn.relu, (ag__.converted_call(ag__.ld(linear_layer), (ag__.ld(x),), None, fscope),), None, fscope)\n",
            "        except:\n",
            "            do_return = False\n",
            "            raise\n",
            "        return fscope.ret(retval_, do_return)\n",
            "\n"
          ]
        }
      ]
    },
    {
      "cell_type": "markdown",
      "source": [
        "# keras"
      ],
      "metadata": {
        "id": "ojIngHLL6qlM"
      }
    },
    {
      "cell_type": "code",
      "source": [
        ""
      ],
      "metadata": {
        "id": "HOJzQMcM6Op6"
      },
      "execution_count": null,
      "outputs": []
    }
  ]
}