{
  "nbformat": 4,
  "nbformat_minor": 0,
  "metadata": {
    "colab": {
      "name": "learn_numpy2.ipynb",
      "provenance": [],
      "collapsed_sections": [],
      "authorship_tag": "ABX9TyPMbbPuB2YnJTm+IJmiaJza",
      "include_colab_link": true
    },
    "kernelspec": {
      "name": "python3",
      "display_name": "Python 3"
    },
    "language_info": {
      "name": "python"
    }
  },
  "cells": [
    {
      "cell_type": "markdown",
      "metadata": {
        "id": "view-in-github",
        "colab_type": "text"
      },
      "source": [
        "<a href=\"https://colab.research.google.com/github/ktasha45/sprout-class-2022/blob/master/learn_numpy2.ipynb\" target=\"_parent\"><img src=\"https://colab.research.google.com/assets/colab-badge.svg\" alt=\"Open In Colab\"/></a>"
      ]
    },
    {
      "cell_type": "code",
      "source": [
        "import numpy as np"
      ],
      "metadata": {
        "id": "qsFaq2et0owM"
      },
      "execution_count": 1,
      "outputs": []
    },
    {
      "cell_type": "markdown",
      "source": [
        "# review"
      ],
      "metadata": {
        "id": "MqkNvOeO2Ryy"
      }
    },
    {
      "cell_type": "code",
      "source": [
        "x = np.random.randint(-10, 10, size = (3, 4, 5), dtype='int8')\n",
        "\n",
        "print(x)\n",
        "print(x.ndim) # 차원\n",
        "print(x.shape)\n",
        "print(x.size) # 원소의 개수\n",
        "print(x.dtype)"
      ],
      "metadata": {
        "id": "jdPubHX20snP",
        "colab": {
          "base_uri": "https://localhost:8080/"
        },
        "outputId": "17ef33e6-8510-4391-b64c-a0547afa8359"
      },
      "execution_count": 8,
      "outputs": [
        {
          "output_type": "stream",
          "name": "stdout",
          "text": [
            "[[[  9  -4  -5   8  -3]\n",
            "  [ -7  -1   2  -3  -3]\n",
            "  [ -3  -1   1   3   7]\n",
            "  [ -1  -8   5   7   4]]\n",
            "\n",
            " [[-10   5 -10   1  -7]\n",
            "  [ -5  -7  -7   9  -1]\n",
            "  [  6  -2   9   7  -7]\n",
            "  [  6  -7  -2   8   2]]\n",
            "\n",
            " [[ -3   7  -7  -2   9]\n",
            "  [  1  -3   3  -1 -10]\n",
            "  [  7  -8  -6   1   7]\n",
            "  [ -1   6  -4   0   1]]]\n",
            "3\n",
            "(3, 4, 5)\n",
            "60\n",
            "int8\n"
          ]
        }
      ]
    },
    {
      "cell_type": "code",
      "source": [
        "x = np.arange(10)\n",
        "x_sub = x[:2]\n",
        "print(x)\n",
        "x_sub[0] = 20 \n",
        "print(x)\n",
        "\n",
        "x = np.arange(10)\n",
        "x_copy = x[:2].copy()\n",
        "print(x)\n",
        "x_copy[0] = 20\n",
        "print(x)"
      ],
      "metadata": {
        "id": "sadNfcIB1Ms8",
        "colab": {
          "base_uri": "https://localhost:8080/"
        },
        "outputId": "dfa032b9-f682-4350-9a96-02f4fdb1ba4b"
      },
      "execution_count": 9,
      "outputs": [
        {
          "output_type": "stream",
          "name": "stdout",
          "text": [
            "[0 1 2 3 4 5 6 7 8 9]\n",
            "[20  1  2  3  4  5  6  7  8  9]\n",
            "[0 1 2 3 4 5 6 7 8 9]\n",
            "[0 1 2 3 4 5 6 7 8 9]\n"
          ]
        }
      ]
    },
    {
      "cell_type": "markdown",
      "source": [
        "# concatenate"
      ],
      "metadata": {
        "id": "7V99ato32eWq"
      }
    },
    {
      "cell_type": "code",
      "execution_count": 10,
      "metadata": {
        "id": "5UoueVnP0ats"
      },
      "outputs": [],
      "source": [
        "x = np.array([[1,2,3], [4,5,6]])\n",
        "y = np.array([[3,2,1], [6,5,4]])"
      ]
    },
    {
      "cell_type": "code",
      "source": [
        "print(np.concatenate([x,y], axis = 0))\n",
        "print(np.concatenate([x,y], axis = 1))"
      ],
      "metadata": {
        "id": "D3V-U_Zq0lVM",
        "colab": {
          "base_uri": "https://localhost:8080/"
        },
        "outputId": "fd463fc5-4044-49d7-c1a8-32dcc4b03f7b"
      },
      "execution_count": 11,
      "outputs": [
        {
          "output_type": "stream",
          "name": "stdout",
          "text": [
            "[[1 2 3]\n",
            " [4 5 6]\n",
            " [3 2 1]\n",
            " [6 5 4]]\n",
            "[[1 2 3 3 2 1]\n",
            " [4 5 6 6 5 4]]\n"
          ]
        }
      ]
    },
    {
      "cell_type": "code",
      "source": [
        "# hstack, vstack"
      ],
      "metadata": {
        "id": "aKr10f71834n"
      },
      "execution_count": null,
      "outputs": []
    },
    {
      "cell_type": "markdown",
      "source": [
        "# matplotlib"
      ],
      "metadata": {
        "id": "BAV_XNfG9iIg"
      }
    },
    {
      "cell_type": "code",
      "source": [
        "import matplotlib.pyplot as plt"
      ],
      "metadata": {
        "id": "x7DPD-wJ9yU7"
      },
      "execution_count": 12,
      "outputs": []
    },
    {
      "cell_type": "code",
      "source": [
        "x = np.arange(0, 3 * np.pi, 0.1)\n",
        "y = np.sin(x)\n",
        "\n",
        "print(x.shape, y.shape)\n",
        "\n",
        "plt.plot(x, y)\n",
        "plt.show()"
      ],
      "metadata": {
        "id": "9Yuuz4n39gaI",
        "colab": {
          "base_uri": "https://localhost:8080/",
          "height": 283
        },
        "outputId": "93b3b15e-afec-4433-a735-36a0de8816f4"
      },
      "execution_count": 13,
      "outputs": [
        {
          "output_type": "stream",
          "name": "stdout",
          "text": [
            "(95,) (95,)\n"
          ]
        },
        {
          "output_type": "display_data",
          "data": {
            "text/plain": [
              "<Figure size 432x288 with 1 Axes>"
            ],
            "image/png": "[encoded data removed]"
          },
          "metadata": {
            "needs_background": "light"
          }
        }
      ]
    },
    {
      "cell_type": "code",
      "source": [
        "x = np.arange(0, 3 * np.pi, 0.1)\n",
        "y_sin = np.sin(x)\n",
        "y_cos = np.cos(x)\n",
        "\n",
        "plt.plot(x, y_sin)\n",
        "plt.plot(x, y_cos)\n",
        "\n",
        "plt.xlabel('x axis label')\n",
        "plt.ylabel('y axis label')\n",
        "\n",
        "plt.title('Sine and Cosine')\n",
        "plt.legend(['Sine', 'Cosine'])\n",
        "plt.show()"
      ],
      "metadata": {
        "id": "yAH9nIuy928p",
        "colab": {
          "base_uri": "https://localhost:8080/",
          "height": 295
        },
        "outputId": "c81790aa-1d5d-4ef1-a34c-be9292c22630"
      },
      "execution_count": 14,
      "outputs": [
        {
          "output_type": "display_data",
          "data": {
            "text/plain": [
              "<Figure size 432x288 with 1 Axes>"
            ],
            "image/png": "[encoded data removed]"
          },
          "metadata": {
            "needs_background": "light"
          }
        }
      ]
    },
    {
      "cell_type": "code",
      "source": [
        "x = np.arange(0, 3 * np.pi, 0.1)\n",
        "y_sin = np.sin(x)\n",
        "y_cos = np.cos(x)\n",
        "\n",
        "# Set up a subplot grid that has height 2 and width 1,\n",
        "# and set the first such subplot as active.\n",
        "plt.subplot(2, 1, 1)\n",
        "\n",
        "# Make the first plot\n",
        "plt.plot(x, y_sin)\n",
        "plt.title('sin')\n",
        "\n",
        "# Set the second subplot as active, and make the second plot.\n",
        "plt.subplot(2, 1, 2)\n",
        "plt.plot(x, y_cos)\n",
        "plt.title('cos')\n",
        "\n",
        "plt.show()"
      ],
      "metadata": {
        "id": "pp6VtyUK9-kO",
        "colab": {
          "base_uri": "https://localhost:8080/",
          "height": 281
        },
        "outputId": "3b2c7a69-08fc-42a2-9251-cfae485dc01d"
      },
      "execution_count": 15,
      "outputs": [
        {
          "output_type": "display_data",
          "data": {
            "text/plain": [
              "<Figure size 432x288 with 2 Axes>"
            ],
            "image/png": "[encoded data removed]"
          },
          "metadata": {
            "needs_background": "light"
          }
        }
      ]
    },
    {
      "cell_type": "code",
      "source": [
        "x = np.random.normal(0, 1, 100) # [a b c d ...]\n",
        "y = np.random.normal(0, 1, 100) # [q w e r ...]\n",
        "\n",
        "plt.scatter(x, y)\n",
        "plt.show()"
      ],
      "metadata": {
        "id": "2cnyUNPn-I29",
        "colab": {
          "base_uri": "https://localhost:8080/",
          "height": 265
        },
        "outputId": "7f7ad7ea-f69e-4b7f-fc56-8716cf180270"
      },
      "execution_count": 17,
      "outputs": [
        {
          "output_type": "display_data",
          "data": {
            "text/plain": [
              "<Figure size 432x288 with 1 Axes>"
            ],
            "image/png": "[encoded data removed]"
          },
          "metadata": {
            "needs_background": "light"
          }
        }
      ]
    },
    {
      "cell_type": "code",
      "source": [
        "x = np.random.normal(0, 1, 1000)\n",
        "plt.hist(x, bins=40)\n",
        "plt.show()"
      ],
      "metadata": {
        "id": "_grm1veuB0mm",
        "colab": {
          "base_uri": "https://localhost:8080/",
          "height": 265
        },
        "outputId": "aa0f0abe-f086-4027-8680-36b20a4b5928"
      },
      "execution_count": 18,
      "outputs": [
        {
          "output_type": "display_data",
          "data": {
            "text/plain": [
              "<Figure size 432x288 with 1 Axes>"
            ],
            "image/png": "[encoded data removed]"
          },
          "metadata": {
            "needs_background": "light"
          }
        }
      ]
    },
    {
      "cell_type": "code",
      "source": [
        "x1 = np.random.normal(0, 0.8, 1000)\n",
        "x2 = np.random.normal(-2, 1, 1000)\n",
        "x3 = np.random.normal(3, 2, 1000)\n",
        "\n",
        "plt.hist(x1, bins=40, alpha=0.3)\n",
        "plt.hist(x2, bins=40, alpha=0.3)\n",
        "plt.hist(x3, bins=40, alpha=0.3)\n",
        "plt.show()"
      ],
      "metadata": {
        "id": "OIOy96qPCQL1",
        "colab": {
          "base_uri": "https://localhost:8080/",
          "height": 265
        },
        "outputId": "4449fe30-8a57-48e3-a7a0-13aa4229977e"
      },
      "execution_count": 19,
      "outputs": [
        {
          "output_type": "display_data",
          "data": {
            "text/plain": [
              "<Figure size 432x288 with 1 Axes>"
            ],
            "image/png": "[encoded data removed]"
          },
          "metadata": {
            "needs_background": "light"
          }
        }
      ]
    },
    {
      "cell_type": "code",
      "source": [
        "x1 = np.random.normal(0, 0.8, 1000)\n",
        "x2 = np.random.normal(-2, 1, 1000)\n",
        "\n",
        "plt.hist2d(x1, x2, bins=40, cmap='Blues')\n",
        "cb = plt.colorbar()\n",
        "plt.show()"
      ],
      "metadata": {
        "id": "FSTlG1_tCjUJ",
        "colab": {
          "base_uri": "https://localhost:8080/",
          "height": 269
        },
        "outputId": "cb0c841d-7cf1-4934-e5d6-d9405c71aa99"
      },
      "execution_count": 22,
      "outputs": [
        {
          "output_type": "display_data",
          "data": {
            "text/plain": [
              "<Figure size 432x288 with 2 Axes>"
            ],
            "image/png": "[encoded data removed]"
          },
          "metadata": {
            "needs_background": "light"
          }
        }
      ]
    },
    {
      "cell_type": "code",
      "source": [
        "a = np.zeros((60,60))# 0000000\n",
        "a[25:30] = 255\n",
        "a[:,30:32] = 128\n",
        "\n",
        "plt.imshow(a, cmap='gray')\n",
        "plt.show()"
      ],
      "metadata": {
        "id": "nRqVmcXQCzLl",
        "colab": {
          "base_uri": "https://localhost:8080/",
          "height": 268
        },
        "outputId": "1d74e8c9-8a68-428f-82d5-a77353c35f49"
      },
      "execution_count": 23,
      "outputs": [
        {
          "output_type": "display_data",
          "data": {
            "text/plain": [
              "<Figure size 432x288 with 1 Axes>"
            ],
            "image/png": "[encoded data removed]"
          },
          "metadata": {
            "needs_background": "light"
          }
        }
      ]
    },
    {
      "cell_type": "markdown",
      "source": [
        "# solution"
      ],
      "metadata": {
        "id": "SPLDyUN5FoZ6"
      }
    },
    {
      "cell_type": "markdown",
      "source": [
        "## solution of sprout"
      ],
      "metadata": {
        "id": "olXocDmMXDks"
      }
    },
    {
      "cell_type": "code",
      "source": [
        "# quiz2\n",
        "import numpy as np\n",
        "\n",
        "z = np.zeros((9,3), dtype='uint8')\n",
        "ar = np.array([0,1,2,0,1,2,0,1,2])\n",
        "\n",
        "for i in range(len(ar)):\n",
        "  z[i][ar[i]] = 1\n",
        "\n",
        "print(z)"
      ],
      "metadata": {
        "colab": {
          "base_uri": "https://localhost:8080/"
        },
        "id": "4d1v9NHqXLt6",
        "outputId": "d8102ba2-5ad5-49a5-df07-18c536d25618"
      },
      "execution_count": 33,
      "outputs": [
        {
          "output_type": "stream",
          "name": "stdout",
          "text": [
            "[[1 0 0]\n",
            " [0 1 0]\n",
            " [0 0 1]\n",
            " [1 0 0]\n",
            " [0 1 0]\n",
            " [0 0 1]\n",
            " [1 0 0]\n",
            " [0 1 0]\n",
            " [0 0 1]]\n"
          ]
        }
      ]
    },
    {
      "cell_type": "markdown",
      "source": [
        "## solution"
      ],
      "metadata": {
        "id": "YexryCYzXZ36"
      }
    },
    {
      "cell_type": "code",
      "source": [
        "# quiz1\n",
        "x = np.arange(-5,5,0.1)\n",
        "y = x**2\n",
        "\n",
        "plt.plot(x, y)\n",
        "plt.show()"
      ],
      "metadata": {
        "id": "tnOXrgc1FqgH",
        "colab": {
          "base_uri": "https://localhost:8080/",
          "height": 265
        },
        "outputId": "2a3f014c-087f-49d0-d222-bd570cdcbac5"
      },
      "execution_count": 34,
      "outputs": [
        {
          "output_type": "display_data",
          "data": {
            "text/plain": [
              "<Figure size 432x288 with 1 Axes>"
            ],
            "image/png": "[encoded data removed]"
          },
          "metadata": {
            "needs_background": "light"
          }
        }
      ]
    },
    {
      "cell_type": "code",
      "source": [
        "# quiz2-1\n",
        "a = np.array([0,1,2,0,1,2,0,1,2])\n",
        "b = np.zeros((a.shape[0],3), dtype='uint8')\n",
        "\n",
        "for i in range(3):\n",
        "  b[:,i] = (a==i)*1\n",
        "\n",
        "print(b)"
      ],
      "metadata": {
        "id": "cMCPW24yFt09",
        "colab": {
          "base_uri": "https://localhost:8080/"
        },
        "outputId": "eb77be39-296b-44f5-9f64-41f24aa4885b"
      },
      "execution_count": 35,
      "outputs": [
        {
          "output_type": "stream",
          "name": "stdout",
          "text": [
            "[[1 0 0]\n",
            " [0 1 0]\n",
            " [0 0 1]\n",
            " [1 0 0]\n",
            " [0 1 0]\n",
            " [0 0 1]\n",
            " [1 0 0]\n",
            " [0 1 0]\n",
            " [0 0 1]]\n"
          ]
        }
      ]
    },
    {
      "cell_type": "code",
      "source": [
        "#quiz2-2\n",
        "a = np.array([0,1,2,0,1,2,0,1,2])\n",
        "\n",
        "categories = np.unique(a)\n",
        "print(categories)\n",
        "\n",
        "eye = np.eye(len(categories))\n",
        "b = eye[a].astype('uint8')\n",
        "\n",
        "print(b)"
      ],
      "metadata": {
        "id": "_VYrAnJJGCKE",
        "colab": {
          "base_uri": "https://localhost:8080/"
        },
        "outputId": "db91c29a-57cb-442a-967a-18cc1f978de0"
      },
      "execution_count": 36,
      "outputs": [
        {
          "output_type": "stream",
          "name": "stdout",
          "text": [
            "[0 1 2]\n",
            "[[1 0 0]\n",
            " [0 1 0]\n",
            " [0 0 1]\n",
            " [1 0 0]\n",
            " [0 1 0]\n",
            " [0 0 1]\n",
            " [1 0 0]\n",
            " [0 1 0]\n",
            " [0 0 1]]\n"
          ]
        }
      ]
    },
    {
      "cell_type": "code",
      "source": [
        "#quiz3\n",
        "from numpy.random.mtrand import shuffle\n",
        "a = np.arange(0, 6102, 1) # 0123456789\n",
        "\n",
        "split_index = int(a.shape[0]*0.6) # 6\n",
        "\n",
        "b1 = a[:split_index]\n",
        "b2 = a[split_index:]\n",
        "\n",
        "print(b1.shape)\n",
        "print(b2.shape)"
      ],
      "metadata": {
        "id": "6zzVjIUoE--l",
        "colab": {
          "base_uri": "https://localhost:8080/"
        },
        "outputId": "28861b1a-45a7-4b67-bd6d-e14787a441b0"
      },
      "execution_count": 37,
      "outputs": [
        {
          "output_type": "stream",
          "name": "stdout",
          "text": [
            "(3661,)\n",
            "(2441,)\n"
          ]
        }
      ]
    },
    {
      "cell_type": "code",
      "source": [
        ""
      ],
      "metadata": {
        "id": "IS3jlDYcXXzg"
      },
      "execution_count": null,
      "outputs": []
    }
  ]
}